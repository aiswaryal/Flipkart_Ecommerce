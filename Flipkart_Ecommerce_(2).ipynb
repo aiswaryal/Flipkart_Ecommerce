{
  "nbformat": 4,
  "nbformat_minor": 0,
  "metadata": {
    "colab": {
      "name": "Flipkart_Ecommerce (2).ipynb",
      "provenance": []
    },
    "kernelspec": {
      "name": "python3",
      "display_name": "Python 3"
    },
    "language_info": {
      "name": "python"
    }
  },
  "cells": [
    {
      "cell_type": "code",
      "metadata": {
        "id": "eGIpUoiT-OJP"
      },
      "source": [
        "import pandas as pd\n",
        "import numpy as np"
      ],
      "execution_count": 1,
      "outputs": []
    },
    {
      "cell_type": "markdown",
      "metadata": {
        "id": "WsRaACsVrd-D"
      },
      "source": [
        "Reading csv file using pandas"
      ]
    },
    {
      "cell_type": "code",
      "metadata": {
        "colab": {
          "base_uri": "https://localhost:8080/",
          "height": 227
        },
        "id": "71XUYGKp-V0l",
        "outputId": "b096b2d6-f996-4888-ef8c-909d3d13c9c9"
      },
      "source": [
        "df1 = pd.read_csv('Flipkart_ecommerce.csv', encoding='utf8')\n",
        "df1.head(2)"
      ],
      "execution_count": 2,
      "outputs": [
        {
          "output_type": "execute_result",
          "data": {
            "text/html": [
              "<div>\n",
              "<style scoped>\n",
              "    .dataframe tbody tr th:only-of-type {\n",
              "        vertical-align: middle;\n",
              "    }\n",
              "\n",
              "    .dataframe tbody tr th {\n",
              "        vertical-align: top;\n",
              "    }\n",
              "\n",
              "    .dataframe thead th {\n",
              "        text-align: right;\n",
              "    }\n",
              "</style>\n",
              "<table border=\"1\" class=\"dataframe\">\n",
              "  <thead>\n",
              "    <tr style=\"text-align: right;\">\n",
              "      <th></th>\n",
              "      <th>uniq_id</th>\n",
              "      <th>crawl_timestamp</th>\n",
              "      <th>product_url</th>\n",
              "      <th>product_name</th>\n",
              "      <th>product_category_tree</th>\n",
              "      <th>pid</th>\n",
              "      <th>retail_price</th>\n",
              "      <th>discounted_price</th>\n",
              "      <th>image</th>\n",
              "      <th>is_FK_Advantage_product</th>\n",
              "      <th>description</th>\n",
              "      <th>product_rating</th>\n",
              "      <th>overall_rating</th>\n",
              "      <th>brand</th>\n",
              "      <th>product_specifications</th>\n",
              "    </tr>\n",
              "  </thead>\n",
              "  <tbody>\n",
              "    <tr>\n",
              "      <th>0</th>\n",
              "      <td>c2d766ca982eca8304150849735ffef9</td>\n",
              "      <td>2016-03-25 22:59:23 +0000</td>\n",
              "      <td>http://www.flipkart.com/alisha-solid-women-s-c...</td>\n",
              "      <td>Alisha Solid Women's Cycling Shorts</td>\n",
              "      <td>[\"Clothing &gt;&gt; Women's Clothing &gt;&gt; Lingerie, Sl...</td>\n",
              "      <td>SRTEH2FF9KEDEFGF</td>\n",
              "      <td>999.0</td>\n",
              "      <td>379.0</td>\n",
              "      <td>[\"http://img5a.flixcart.com/image/short/u/4/a/...</td>\n",
              "      <td>False</td>\n",
              "      <td>Key Features of Alisha Solid Women's Cycling S...</td>\n",
              "      <td>No rating available</td>\n",
              "      <td>No rating available</td>\n",
              "      <td>Alisha</td>\n",
              "      <td>{\"product_specification\"=&gt;[{\"key\"=&gt;\"Number of ...</td>\n",
              "    </tr>\n",
              "    <tr>\n",
              "      <th>1</th>\n",
              "      <td>7f7036a6d550aaa89d34c77bd39a5e48</td>\n",
              "      <td>2016-03-25 22:59:23 +0000</td>\n",
              "      <td>http://www.flipkart.com/fabhomedecor-fabric-do...</td>\n",
              "      <td>FabHomeDecor Fabric Double Sofa Bed</td>\n",
              "      <td>[\"Furniture &gt;&gt; Living Room Furniture &gt;&gt; Sofa B...</td>\n",
              "      <td>SBEEH3QGU7MFYJFY</td>\n",
              "      <td>32157.0</td>\n",
              "      <td>22646.0</td>\n",
              "      <td>[\"http://img6a.flixcart.com/image/sofa-bed/j/f...</td>\n",
              "      <td>False</td>\n",
              "      <td>FabHomeDecor Fabric Double Sofa Bed (Finish Co...</td>\n",
              "      <td>No rating available</td>\n",
              "      <td>No rating available</td>\n",
              "      <td>FabHomeDecor</td>\n",
              "      <td>{\"product_specification\"=&gt;[{\"key\"=&gt;\"Installati...</td>\n",
              "    </tr>\n",
              "  </tbody>\n",
              "</table>\n",
              "</div>"
            ],
            "text/plain": [
              "                            uniq_id  ...                             product_specifications\n",
              "0  c2d766ca982eca8304150849735ffef9  ...  {\"product_specification\"=>[{\"key\"=>\"Number of ...\n",
              "1  7f7036a6d550aaa89d34c77bd39a5e48  ...  {\"product_specification\"=>[{\"key\"=>\"Installati...\n",
              "\n",
              "[2 rows x 15 columns]"
            ]
          },
          "metadata": {
            "tags": []
          },
          "execution_count": 2
        }
      ]
    },
    {
      "cell_type": "markdown",
      "metadata": {
        "id": "0O1GW6yXCj5I"
      },
      "source": [
        "\n",
        "\n",
        "shape is used to get the dimension of the dataframe\n",
        "\n",
        "we have 20000 rows and 15 columns"
      ]
    },
    {
      "cell_type": "code",
      "metadata": {
        "colab": {
          "base_uri": "https://localhost:8080/"
        },
        "id": "xByV7pqX-_2o",
        "outputId": "df1998fd-4354-4d7b-d95f-4b689f65f201"
      },
      "source": [
        "df1.shape"
      ],
      "execution_count": 3,
      "outputs": [
        {
          "output_type": "execute_result",
          "data": {
            "text/plain": [
              "(13260, 15)"
            ]
          },
          "metadata": {
            "tags": []
          },
          "execution_count": 3
        }
      ]
    },
    {
      "cell_type": "markdown",
      "metadata": {
        "id": "J64jEWjNCeDs"
      },
      "source": [
        "data type of column brand"
      ]
    },
    {
      "cell_type": "code",
      "metadata": {
        "colab": {
          "base_uri": "https://localhost:8080/"
        },
        "id": "gAv1txnoJUNY",
        "outputId": "1e733824-b2ce-46a0-8046-c9456bfc95c6"
      },
      "source": [
        "df1['brand'].dtypes\n"
      ],
      "execution_count": 4,
      "outputs": [
        {
          "output_type": "execute_result",
          "data": {
            "text/plain": [
              "dtype('O')"
            ]
          },
          "metadata": {
            "tags": []
          },
          "execution_count": 4
        }
      ]
    },
    {
      "cell_type": "markdown",
      "metadata": {
        "id": "mLiAUX_LCbeD"
      },
      "source": [
        "Name of columns"
      ]
    },
    {
      "cell_type": "code",
      "metadata": {
        "colab": {
          "base_uri": "https://localhost:8080/"
        },
        "id": "NMlm-Ro__CRR",
        "outputId": "aea0a9ae-e568-457e-f81e-6624bba8b67f"
      },
      "source": [
        "df1.columns"
      ],
      "execution_count": 5,
      "outputs": [
        {
          "output_type": "execute_result",
          "data": {
            "text/plain": [
              "Index(['uniq_id', 'crawl_timestamp', 'product_url', 'product_name',\n",
              "       'product_category_tree', 'pid', 'retail_price', 'discounted_price',\n",
              "       'image', 'is_FK_Advantage_product', 'description', 'product_rating',\n",
              "       'overall_rating', 'brand', 'product_specifications'],\n",
              "      dtype='object')"
            ]
          },
          "metadata": {
            "tags": []
          },
          "execution_count": 5
        }
      ]
    },
    {
      "cell_type": "markdown",
      "metadata": {
        "id": "--KFa5buCK7Q"
      },
      "source": [
        "describe() is used to get more information about a particular column to help us in understanding the data better"
      ]
    },
    {
      "cell_type": "code",
      "metadata": {
        "colab": {
          "base_uri": "https://localhost:8080/"
        },
        "id": "ZSY15sC-_FJL",
        "outputId": "f3bb0fbe-c741-4441-8d6c-b4dcd3ea1622"
      },
      "source": [
        "df1.product_category_tree.describe()\n"
      ],
      "execution_count": 6,
      "outputs": [
        {
          "output_type": "execute_result",
          "data": {
            "text/plain": [
              "count                                                13260\n",
              "unique                                                4222\n",
              "top       [\"Jewellery >> Necklaces & Chains >> Necklaces\"]\n",
              "freq                                                  1567\n",
              "Name: product_category_tree, dtype: object"
            ]
          },
          "metadata": {
            "tags": []
          },
          "execution_count": 6
        }
      ]
    },
    {
      "cell_type": "markdown",
      "metadata": {
        "id": "c-z3gkufB18-"
      },
      "source": [
        "isnull() is used to find number of null values in each column and using \n",
        "\n",
        "sort_values() we are sorting it in ascending order here"
      ]
    },
    {
      "cell_type": "code",
      "metadata": {
        "colab": {
          "base_uri": "https://localhost:8080/"
        },
        "id": "8bJgqcoC_Hue",
        "outputId": "e3c2d81b-de0f-461e-8b47-c0fd9139dd7d"
      },
      "source": [
        "df1.isnull().sum().sort_values(ascending = False)"
      ],
      "execution_count": 7,
      "outputs": [
        {
          "output_type": "execute_result",
          "data": {
            "text/plain": [
              "brand                      3403\n",
              "discounted_price             68\n",
              "retail_price                 68\n",
              "product_specifications        8\n",
              "image                         3\n",
              "description                   1\n",
              "overall_rating                0\n",
              "product_rating                0\n",
              "is_FK_Advantage_product       0\n",
              "pid                           0\n",
              "product_category_tree         0\n",
              "product_name                  0\n",
              "product_url                   0\n",
              "crawl_timestamp               0\n",
              "uniq_id                       0\n",
              "dtype: int64"
            ]
          },
          "metadata": {
            "tags": []
          },
          "execution_count": 7
        }
      ]
    },
    {
      "cell_type": "markdown",
      "metadata": {
        "id": "SxWbgKZCCzUU"
      },
      "source": [
        "Dropping columns discounted_price, retail_price, overall_rating and product_rating as they don't contribute significantly in determining the prodcut category"
      ]
    },
    {
      "cell_type": "code",
      "metadata": {
        "colab": {
          "base_uri": "https://localhost:8080/",
          "height": 227
        },
        "id": "bb_iVDJG_Ju7",
        "outputId": "879227b0-004d-4abb-f54f-5e8b023cd95d"
      },
      "source": [
        "df2 = df1.drop(['discounted_price','retail_price','overall_rating','product_rating',], axis = 'columns')\n",
        "df2.head(2)"
      ],
      "execution_count": 8,
      "outputs": [
        {
          "output_type": "execute_result",
          "data": {
            "text/html": [
              "<div>\n",
              "<style scoped>\n",
              "    .dataframe tbody tr th:only-of-type {\n",
              "        vertical-align: middle;\n",
              "    }\n",
              "\n",
              "    .dataframe tbody tr th {\n",
              "        vertical-align: top;\n",
              "    }\n",
              "\n",
              "    .dataframe thead th {\n",
              "        text-align: right;\n",
              "    }\n",
              "</style>\n",
              "<table border=\"1\" class=\"dataframe\">\n",
              "  <thead>\n",
              "    <tr style=\"text-align: right;\">\n",
              "      <th></th>\n",
              "      <th>uniq_id</th>\n",
              "      <th>crawl_timestamp</th>\n",
              "      <th>product_url</th>\n",
              "      <th>product_name</th>\n",
              "      <th>product_category_tree</th>\n",
              "      <th>pid</th>\n",
              "      <th>image</th>\n",
              "      <th>is_FK_Advantage_product</th>\n",
              "      <th>description</th>\n",
              "      <th>brand</th>\n",
              "      <th>product_specifications</th>\n",
              "    </tr>\n",
              "  </thead>\n",
              "  <tbody>\n",
              "    <tr>\n",
              "      <th>0</th>\n",
              "      <td>c2d766ca982eca8304150849735ffef9</td>\n",
              "      <td>2016-03-25 22:59:23 +0000</td>\n",
              "      <td>http://www.flipkart.com/alisha-solid-women-s-c...</td>\n",
              "      <td>Alisha Solid Women's Cycling Shorts</td>\n",
              "      <td>[\"Clothing &gt;&gt; Women's Clothing &gt;&gt; Lingerie, Sl...</td>\n",
              "      <td>SRTEH2FF9KEDEFGF</td>\n",
              "      <td>[\"http://img5a.flixcart.com/image/short/u/4/a/...</td>\n",
              "      <td>False</td>\n",
              "      <td>Key Features of Alisha Solid Women's Cycling S...</td>\n",
              "      <td>Alisha</td>\n",
              "      <td>{\"product_specification\"=&gt;[{\"key\"=&gt;\"Number of ...</td>\n",
              "    </tr>\n",
              "    <tr>\n",
              "      <th>1</th>\n",
              "      <td>7f7036a6d550aaa89d34c77bd39a5e48</td>\n",
              "      <td>2016-03-25 22:59:23 +0000</td>\n",
              "      <td>http://www.flipkart.com/fabhomedecor-fabric-do...</td>\n",
              "      <td>FabHomeDecor Fabric Double Sofa Bed</td>\n",
              "      <td>[\"Furniture &gt;&gt; Living Room Furniture &gt;&gt; Sofa B...</td>\n",
              "      <td>SBEEH3QGU7MFYJFY</td>\n",
              "      <td>[\"http://img6a.flixcart.com/image/sofa-bed/j/f...</td>\n",
              "      <td>False</td>\n",
              "      <td>FabHomeDecor Fabric Double Sofa Bed (Finish Co...</td>\n",
              "      <td>FabHomeDecor</td>\n",
              "      <td>{\"product_specification\"=&gt;[{\"key\"=&gt;\"Installati...</td>\n",
              "    </tr>\n",
              "  </tbody>\n",
              "</table>\n",
              "</div>"
            ],
            "text/plain": [
              "                            uniq_id  ...                             product_specifications\n",
              "0  c2d766ca982eca8304150849735ffef9  ...  {\"product_specification\"=>[{\"key\"=>\"Number of ...\n",
              "1  7f7036a6d550aaa89d34c77bd39a5e48  ...  {\"product_specification\"=>[{\"key\"=>\"Installati...\n",
              "\n",
              "[2 rows x 11 columns]"
            ]
          },
          "metadata": {
            "tags": []
          },
          "execution_count": 8
        }
      ]
    },
    {
      "cell_type": "markdown",
      "metadata": {
        "id": "tEIGU61VDCzH"
      },
      "source": [
        "Checking for null values in the df2 dataframe"
      ]
    },
    {
      "cell_type": "code",
      "metadata": {
        "colab": {
          "base_uri": "https://localhost:8080/"
        },
        "id": "Fq8RsTKyJB-U",
        "outputId": "48aa9fff-4f3a-4cb4-d4c3-9115c03fc23d"
      },
      "source": [
        "df2.isnull().sum().sort_values(ascending = False)"
      ],
      "execution_count": 9,
      "outputs": [
        {
          "output_type": "execute_result",
          "data": {
            "text/plain": [
              "brand                      3403\n",
              "product_specifications        8\n",
              "image                         3\n",
              "description                   1\n",
              "is_FK_Advantage_product       0\n",
              "pid                           0\n",
              "product_category_tree         0\n",
              "product_name                  0\n",
              "product_url                   0\n",
              "crawl_timestamp               0\n",
              "uniq_id                       0\n",
              "dtype: int64"
            ]
          },
          "metadata": {
            "tags": []
          },
          "execution_count": 9
        }
      ]
    },
    {
      "cell_type": "markdown",
      "metadata": {
        "id": "wdVDdFkmDL3G"
      },
      "source": [
        "we are gaining more information of the columns that do not have numerical data type"
      ]
    },
    {
      "cell_type": "code",
      "metadata": {
        "colab": {
          "base_uri": "https://localhost:8080/",
          "height": 270
        },
        "id": "UoxYvVjZ_Q_l",
        "outputId": "cc807644-c60f-41c4-c9aa-3dac9ea7f9a4"
      },
      "source": [
        "categoricals = df1.select_dtypes(exclude=[np.number])\n",
        "categoricals.describe()\n",
        "#The count column indicates the count of non-null observations, while unique counts the number of unique values. top is the most commonly occurring value, with the frequency of the top value shown by freq.\n",
        "\n"
      ],
      "execution_count": 10,
      "outputs": [
        {
          "output_type": "execute_result",
          "data": {
            "text/html": [
              "<div>\n",
              "<style scoped>\n",
              "    .dataframe tbody tr th:only-of-type {\n",
              "        vertical-align: middle;\n",
              "    }\n",
              "\n",
              "    .dataframe tbody tr th {\n",
              "        vertical-align: top;\n",
              "    }\n",
              "\n",
              "    .dataframe thead th {\n",
              "        text-align: right;\n",
              "    }\n",
              "</style>\n",
              "<table border=\"1\" class=\"dataframe\">\n",
              "  <thead>\n",
              "    <tr style=\"text-align: right;\">\n",
              "      <th></th>\n",
              "      <th>uniq_id</th>\n",
              "      <th>crawl_timestamp</th>\n",
              "      <th>product_url</th>\n",
              "      <th>product_name</th>\n",
              "      <th>product_category_tree</th>\n",
              "      <th>pid</th>\n",
              "      <th>image</th>\n",
              "      <th>is_FK_Advantage_product</th>\n",
              "      <th>description</th>\n",
              "      <th>product_rating</th>\n",
              "      <th>overall_rating</th>\n",
              "      <th>brand</th>\n",
              "      <th>product_specifications</th>\n",
              "    </tr>\n",
              "  </thead>\n",
              "  <tbody>\n",
              "    <tr>\n",
              "      <th>count</th>\n",
              "      <td>13260</td>\n",
              "      <td>13260</td>\n",
              "      <td>13260</td>\n",
              "      <td>13260</td>\n",
              "      <td>13260</td>\n",
              "      <td>13260</td>\n",
              "      <td>13257</td>\n",
              "      <td>13260</td>\n",
              "      <td>13259</td>\n",
              "      <td>13260</td>\n",
              "      <td>13260</td>\n",
              "      <td>9857</td>\n",
              "      <td>13252</td>\n",
              "    </tr>\n",
              "    <tr>\n",
              "      <th>unique</th>\n",
              "      <td>13260</td>\n",
              "      <td>218</td>\n",
              "      <td>13260</td>\n",
              "      <td>8847</td>\n",
              "      <td>4222</td>\n",
              "      <td>13258</td>\n",
              "      <td>12235</td>\n",
              "      <td>2</td>\n",
              "      <td>11833</td>\n",
              "      <td>36</td>\n",
              "      <td>36</td>\n",
              "      <td>2407</td>\n",
              "      <td>12486</td>\n",
              "    </tr>\n",
              "    <tr>\n",
              "      <th>top</th>\n",
              "      <td>e040a3c5cfd59742c3c648f65a2c7d6e</td>\n",
              "      <td>2015-12-01 12:40:44 +0000</td>\n",
              "      <td>http://www.flipkart.com/satya-sita-embriodered...</td>\n",
              "      <td>S4S Stylish Women's Push-up Bra</td>\n",
              "      <td>[\"Jewellery &gt;&gt; Necklaces &amp; Chains &gt;&gt; Necklaces\"]</td>\n",
              "      <td>ACCEJ6TESY7AFT5W</td>\n",
              "      <td>[\"http://img6a.flixcart.com/image/car-mat/m/t/...</td>\n",
              "      <td>False</td>\n",
              "      <td>Buy HomeeHub Polyester Multicolor Self Design ...</td>\n",
              "      <td>No rating available</td>\n",
              "      <td>No rating available</td>\n",
              "      <td>Allure Auto</td>\n",
              "      <td>{\"product_specification\"=&gt;[{\"key\"=&gt;\"Type\", \"va...</td>\n",
              "    </tr>\n",
              "    <tr>\n",
              "      <th>freq</th>\n",
              "      <td>1</td>\n",
              "      <td>1979</td>\n",
              "      <td>1</td>\n",
              "      <td>94</td>\n",
              "      <td>1567</td>\n",
              "      <td>2</td>\n",
              "      <td>45</td>\n",
              "      <td>12721</td>\n",
              "      <td>58</td>\n",
              "      <td>11959</td>\n",
              "      <td>11959</td>\n",
              "      <td>469</td>\n",
              "      <td>71</td>\n",
              "    </tr>\n",
              "  </tbody>\n",
              "</table>\n",
              "</div>"
            ],
            "text/plain": [
              "                                 uniq_id  ...                             product_specifications\n",
              "count                              13260  ...                                              13252\n",
              "unique                             13260  ...                                              12486\n",
              "top     e040a3c5cfd59742c3c648f65a2c7d6e  ...  {\"product_specification\"=>[{\"key\"=>\"Type\", \"va...\n",
              "freq                                   1  ...                                                 71\n",
              "\n",
              "[4 rows x 13 columns]"
            ]
          },
          "metadata": {
            "tags": []
          },
          "execution_count": 10
        }
      ]
    },
    {
      "cell_type": "markdown",
      "metadata": {
        "id": "oWRKgJpRDV2M"
      },
      "source": [
        "We are dropping crawl_timestamp, is_FK_Advantage_product, image, product_url,pid, uniq_id as they don't contribute significantly when determining product category"
      ]
    },
    {
      "cell_type": "code",
      "metadata": {
        "colab": {
          "base_uri": "https://localhost:8080/"
        },
        "id": "h8XYcMVi_TDA",
        "outputId": "c38c4499-c98a-4cf3-ed0b-407c61a5d39a"
      },
      "source": [
        "df3 = df2.drop(['crawl_timestamp','is_FK_Advantage_product','image','product_url','pid','uniq_id'], axis = 'columns')\n",
        "\n",
        "df3.columns"
      ],
      "execution_count": 11,
      "outputs": [
        {
          "output_type": "execute_result",
          "data": {
            "text/plain": [
              "Index(['product_name', 'product_category_tree', 'description', 'brand',\n",
              "       'product_specifications'],\n",
              "      dtype='object')"
            ]
          },
          "metadata": {
            "tags": []
          },
          "execution_count": 11
        }
      ]
    },
    {
      "cell_type": "markdown",
      "metadata": {
        "id": "Ng5XdpmhDuGy"
      },
      "source": [
        "Making sure product_name, product_specifications, description has the dtype string as we will need it later on when implementing the algortihms"
      ]
    },
    {
      "cell_type": "code",
      "metadata": {
        "id": "vJ_55PhXWwUa"
      },
      "source": [
        "df3['product_name'] = df3.product_name.astype(str)\n",
        "df3['product_specifications'] = df3.product_specifications.astype(str)\n",
        "df3['description'] = df3.description.astype(str)"
      ],
      "execution_count": 12,
      "outputs": []
    },
    {
      "cell_type": "markdown",
      "metadata": {
        "id": "HoqViaumWkQu"
      },
      "source": [
        "Converting to lower case"
      ]
    },
    {
      "cell_type": "code",
      "metadata": {
        "id": "nj1ZrjSRV7Lu"
      },
      "source": [
        "new_Index = ['product_name', 'product_category_tree','description','brand','product_specifications']\n"
      ],
      "execution_count": 13,
      "outputs": []
    },
    {
      "cell_type": "code",
      "metadata": {
        "id": "52ngKs8uWS3n"
      },
      "source": [
        "df3.columns= new_Index"
      ],
      "execution_count": 14,
      "outputs": []
    },
    {
      "cell_type": "code",
      "metadata": {
        "colab": {
          "base_uri": "https://localhost:8080/"
        },
        "id": "jmDFDGm3WY1z",
        "outputId": "3f92f20e-42d0-4eb1-eca3-6d87a449092f"
      },
      "source": [
        "df1.index"
      ],
      "execution_count": 15,
      "outputs": [
        {
          "output_type": "execute_result",
          "data": {
            "text/plain": [
              "RangeIndex(start=0, stop=13260, step=1)"
            ]
          },
          "metadata": {
            "tags": []
          },
          "execution_count": 15
        }
      ]
    },
    {
      "cell_type": "code",
      "metadata": {
        "colab": {
          "base_uri": "https://localhost:8080/",
          "height": 94
        },
        "id": "sNTKcMTrWYsp",
        "outputId": "3ce66b90-b95a-4ea3-bb43-693f3893987f"
      },
      "source": [
        "for index in new_Index:\n",
        "    df3[index]=df3[index].str.lower()\n",
        "df3.head(1)"
      ],
      "execution_count": 16,
      "outputs": [
        {
          "output_type": "execute_result",
          "data": {
            "text/html": [
              "<div>\n",
              "<style scoped>\n",
              "    .dataframe tbody tr th:only-of-type {\n",
              "        vertical-align: middle;\n",
              "    }\n",
              "\n",
              "    .dataframe tbody tr th {\n",
              "        vertical-align: top;\n",
              "    }\n",
              "\n",
              "    .dataframe thead th {\n",
              "        text-align: right;\n",
              "    }\n",
              "</style>\n",
              "<table border=\"1\" class=\"dataframe\">\n",
              "  <thead>\n",
              "    <tr style=\"text-align: right;\">\n",
              "      <th></th>\n",
              "      <th>product_name</th>\n",
              "      <th>product_category_tree</th>\n",
              "      <th>description</th>\n",
              "      <th>brand</th>\n",
              "      <th>product_specifications</th>\n",
              "    </tr>\n",
              "  </thead>\n",
              "  <tbody>\n",
              "    <tr>\n",
              "      <th>0</th>\n",
              "      <td>alisha solid women's cycling shorts</td>\n",
              "      <td>[\"clothing &gt;&gt; women's clothing &gt;&gt; lingerie, sl...</td>\n",
              "      <td>key features of alisha solid women's cycling s...</td>\n",
              "      <td>alisha</td>\n",
              "      <td>{\"product_specification\"=&gt;[{\"key\"=&gt;\"number of ...</td>\n",
              "    </tr>\n",
              "  </tbody>\n",
              "</table>\n",
              "</div>"
            ],
            "text/plain": [
              "                          product_name  ...                             product_specifications\n",
              "0  alisha solid women's cycling shorts  ...  {\"product_specification\"=>[{\"key\"=>\"number of ...\n",
              "\n",
              "[1 rows x 5 columns]"
            ]
          },
          "metadata": {
            "tags": []
          },
          "execution_count": 16
        }
      ]
    },
    {
      "cell_type": "markdown",
      "metadata": {
        "id": "WicyEAC3EEQ2"
      },
      "source": [
        "Checking for null values in the dataframe df3"
      ]
    },
    {
      "cell_type": "code",
      "metadata": {
        "colab": {
          "base_uri": "https://localhost:8080/"
        },
        "id": "6Ia50EUMI2W4",
        "outputId": "c7aa0509-f04e-40e4-f9d8-5183be25f900"
      },
      "source": [
        "df3.isnull().sum().sort_values(ascending = False)"
      ],
      "execution_count": 17,
      "outputs": [
        {
          "output_type": "execute_result",
          "data": {
            "text/plain": [
              "brand                     3403\n",
              "product_specifications       0\n",
              "description                  0\n",
              "product_category_tree        0\n",
              "product_name                 0\n",
              "dtype: int64"
            ]
          },
          "metadata": {
            "tags": []
          },
          "execution_count": 17
        }
      ]
    },
    {
      "cell_type": "code",
      "metadata": {
        "id": "zcCPjJVDHFn8"
      },
      "source": [
        "\n",
        "\n",
        "df3.replace('[^a-zA-Z]', ' ', inplace= True)\n",
        "#in the columns of data we are keeping only a-z and A-Z and inplace of punctutation or other things we are replacing it with space and \n",
        "#we are using inpplace = true to update the data"
      ],
      "execution_count": 18,
      "outputs": []
    },
    {
      "cell_type": "code",
      "metadata": {
        "colab": {
          "base_uri": "https://localhost:8080/",
          "height": 182
        },
        "id": "p_MSlyf4_U7E",
        "outputId": "a684e37a-423c-4e36-c993-c9907c445c5e"
      },
      "source": [
        "categoricals = df3.select_dtypes(exclude=[np.number])\n",
        "categoricals.describe()"
      ],
      "execution_count": 19,
      "outputs": [
        {
          "output_type": "execute_result",
          "data": {
            "text/html": [
              "<div>\n",
              "<style scoped>\n",
              "    .dataframe tbody tr th:only-of-type {\n",
              "        vertical-align: middle;\n",
              "    }\n",
              "\n",
              "    .dataframe tbody tr th {\n",
              "        vertical-align: top;\n",
              "    }\n",
              "\n",
              "    .dataframe thead th {\n",
              "        text-align: right;\n",
              "    }\n",
              "</style>\n",
              "<table border=\"1\" class=\"dataframe\">\n",
              "  <thead>\n",
              "    <tr style=\"text-align: right;\">\n",
              "      <th></th>\n",
              "      <th>product_name</th>\n",
              "      <th>product_category_tree</th>\n",
              "      <th>description</th>\n",
              "      <th>brand</th>\n",
              "      <th>product_specifications</th>\n",
              "    </tr>\n",
              "  </thead>\n",
              "  <tbody>\n",
              "    <tr>\n",
              "      <th>count</th>\n",
              "      <td>13260</td>\n",
              "      <td>13260</td>\n",
              "      <td>13260</td>\n",
              "      <td>9857</td>\n",
              "      <td>13260</td>\n",
              "    </tr>\n",
              "    <tr>\n",
              "      <th>unique</th>\n",
              "      <td>8814</td>\n",
              "      <td>4181</td>\n",
              "      <td>11811</td>\n",
              "      <td>2322</td>\n",
              "      <td>12478</td>\n",
              "    </tr>\n",
              "    <tr>\n",
              "      <th>top</th>\n",
              "      <td>s4s stylish women's push-up bra</td>\n",
              "      <td>[\"jewellery &gt;&gt; necklaces &amp; chains &gt;&gt; necklaces\"]</td>\n",
              "      <td>buy homeehub polyester multicolor self design ...</td>\n",
              "      <td>allure auto</td>\n",
              "      <td>{\"product_specification\"=&gt;[{\"key\"=&gt;\"type\", \"va...</td>\n",
              "    </tr>\n",
              "    <tr>\n",
              "      <th>freq</th>\n",
              "      <td>94</td>\n",
              "      <td>1567</td>\n",
              "      <td>58</td>\n",
              "      <td>469</td>\n",
              "      <td>71</td>\n",
              "    </tr>\n",
              "  </tbody>\n",
              "</table>\n",
              "</div>"
            ],
            "text/plain": [
              "                           product_name  ...                             product_specifications\n",
              "count                             13260  ...                                              13260\n",
              "unique                             8814  ...                                              12478\n",
              "top     s4s stylish women's push-up bra  ...  {\"product_specification\"=>[{\"key\"=>\"type\", \"va...\n",
              "freq                                 94  ...                                                 71\n",
              "\n",
              "[4 rows x 5 columns]"
            ]
          },
          "metadata": {
            "tags": []
          },
          "execution_count": 19
        }
      ]
    },
    {
      "cell_type": "markdown",
      "metadata": {
        "id": "7Jmorp8wENbo"
      },
      "source": [
        "value_counts is used to get the count of each value present under a column"
      ]
    },
    {
      "cell_type": "code",
      "metadata": {
        "colab": {
          "base_uri": "https://localhost:8080/"
        },
        "id": "vKACcrtpHRmA",
        "outputId": "71447dbf-95c8-42c0-e87b-4fc0a4a46a64"
      },
      "source": [
        "pd.value_counts(df3.brand)"
      ],
      "execution_count": 20,
      "outputs": [
        {
          "output_type": "execute_result",
          "data": {
            "text/plain": [
              "allure auto      469\n",
              "voylla           269\n",
              "regular          265\n",
              "slim             165\n",
              "black            165\n",
              "                ... \n",
              "carmobcentral      1\n",
              "furnstyl           1\n",
              "bubi               1\n",
              "majik              1\n",
              "jazz eyewears      1\n",
              "Name: brand, Length: 2322, dtype: int64"
            ]
          },
          "metadata": {
            "tags": []
          },
          "execution_count": 20
        }
      ]
    },
    {
      "cell_type": "code",
      "metadata": {
        "id": "Wut2a6prhaEl"
      },
      "source": [
        "#Independent Variable\n",
        "X= df3.drop(['product_category_tree'], axis = 1)"
      ],
      "execution_count": 21,
      "outputs": []
    },
    {
      "cell_type": "markdown",
      "metadata": {
        "id": "K_IK5NMyEb8I"
      },
      "source": [
        "Shape of the independent variable"
      ]
    },
    {
      "cell_type": "code",
      "metadata": {
        "colab": {
          "base_uri": "https://localhost:8080/"
        },
        "id": "aHn3jRNQSHUG",
        "outputId": "e72caa7d-99d5-454e-fb15-5aae98b9d298"
      },
      "source": [
        "X.shape"
      ],
      "execution_count": 22,
      "outputs": [
        {
          "output_type": "execute_result",
          "data": {
            "text/plain": [
              "(13260, 4)"
            ]
          },
          "metadata": {
            "tags": []
          },
          "execution_count": 22
        }
      ]
    },
    {
      "cell_type": "code",
      "metadata": {
        "id": "IChlUcLx_clm"
      },
      "source": [
        "#dependent variable\n",
        "\n",
        "y = df3[['product_category_tree']]"
      ],
      "execution_count": 23,
      "outputs": []
    },
    {
      "cell_type": "code",
      "metadata": {
        "colab": {
          "base_uri": "https://localhost:8080/",
          "height": 106
        },
        "id": "qV3AoOZQStqL",
        "outputId": "299185d2-1572-4509-a741-1fe163496130"
      },
      "source": [
        "y.head(2)"
      ],
      "execution_count": 24,
      "outputs": [
        {
          "output_type": "execute_result",
          "data": {
            "text/html": [
              "<div>\n",
              "<style scoped>\n",
              "    .dataframe tbody tr th:only-of-type {\n",
              "        vertical-align: middle;\n",
              "    }\n",
              "\n",
              "    .dataframe tbody tr th {\n",
              "        vertical-align: top;\n",
              "    }\n",
              "\n",
              "    .dataframe thead th {\n",
              "        text-align: right;\n",
              "    }\n",
              "</style>\n",
              "<table border=\"1\" class=\"dataframe\">\n",
              "  <thead>\n",
              "    <tr style=\"text-align: right;\">\n",
              "      <th></th>\n",
              "      <th>product_category_tree</th>\n",
              "    </tr>\n",
              "  </thead>\n",
              "  <tbody>\n",
              "    <tr>\n",
              "      <th>0</th>\n",
              "      <td>[\"clothing &gt;&gt; women's clothing &gt;&gt; lingerie, sl...</td>\n",
              "    </tr>\n",
              "    <tr>\n",
              "      <th>1</th>\n",
              "      <td>[\"furniture &gt;&gt; living room furniture &gt;&gt; sofa b...</td>\n",
              "    </tr>\n",
              "  </tbody>\n",
              "</table>\n",
              "</div>"
            ],
            "text/plain": [
              "                               product_category_tree\n",
              "0  [\"clothing >> women's clothing >> lingerie, sl...\n",
              "1  [\"furniture >> living room furniture >> sofa b..."
            ]
          },
          "metadata": {
            "tags": []
          },
          "execution_count": 24
        }
      ]
    },
    {
      "cell_type": "code",
      "metadata": {
        "colab": {
          "base_uri": "https://localhost:8080/"
        },
        "id": "Dr1uEt6ESOLw",
        "outputId": "8661916c-043c-4dc9-d7b2-421a1ffff376"
      },
      "source": [
        "\n",
        "y.shape"
      ],
      "execution_count": 25,
      "outputs": [
        {
          "output_type": "execute_result",
          "data": {
            "text/plain": [
              "(13260, 1)"
            ]
          },
          "metadata": {
            "tags": []
          },
          "execution_count": 25
        }
      ]
    },
    {
      "cell_type": "markdown",
      "metadata": {
        "id": "5h5ZUzZkF4oK"
      },
      "source": [
        "Instead of get_dummies() I tried to implement Tfidf and BOW but it was changing the dimension of X_c and hence while implementing train_test_split it was giving an error saying \"Found input variables with inconsistent numbersof samples: [4, 20000]"
      ]
    },
    {
      "cell_type": "markdown",
      "metadata": {
        "id": "zIWxKqn7Foh6"
      },
      "source": [
        "get_dummies() is used for data manipulation. It converts categorical data into dummy or indicator variables.\n",
        "\n",
        "Using this to convert categorical data into vector form as machine learning algortihms understand numbers and not language"
      ]
    },
    {
      "cell_type": "code",
      "metadata": {
        "id": "bFEIgMHL_iaB"
      },
      "source": [
        "X_c = pd.get_dummies(X)"
      ],
      "execution_count": 26,
      "outputs": []
    },
    {
      "cell_type": "code",
      "metadata": {
        "colab": {
          "base_uri": "https://localhost:8080/"
        },
        "id": "v-8sqbFyXbaL",
        "outputId": "9a19b47d-e3ef-4aa3-edf1-ef42d8f35ab3"
      },
      "source": [
        "print(X_c)"
      ],
      "execution_count": 27,
      "outputs": [
        {
          "output_type": "stream",
          "text": [
            "       product_name_109f solid women's tunic  ...  product_specifications_{\"product_specification\"=>{\"key\"=>\"style code\", \"value\"=>\"8024yl04\"}}\n",
            "0                                          0  ...                                                  0                                           \n",
            "1                                          0  ...                                                  0                                           \n",
            "2                                          0  ...                                                  0                                           \n",
            "3                                          0  ...                                                  0                                           \n",
            "4                                          0  ...                                                  0                                           \n",
            "...                                      ...  ...                                                ...                                           \n",
            "13255                                      0  ...                                                  0                                           \n",
            "13256                                      0  ...                                                  0                                           \n",
            "13257                                      0  ...                                                  0                                           \n",
            "13258                                      0  ...                                                  0                                           \n",
            "13259                                      0  ...                                                  0                                           \n",
            "\n",
            "[13260 rows x 35425 columns]\n"
          ],
          "name": "stdout"
        }
      ]
    },
    {
      "cell_type": "code",
      "metadata": {
        "colab": {
          "base_uri": "https://localhost:8080/"
        },
        "id": "TgEbHxFJWZbV",
        "outputId": "07d21d55-459b-43b1-f2c0-d01b04d0d544"
      },
      "source": [
        "X_c.shape"
      ],
      "execution_count": 28,
      "outputs": [
        {
          "output_type": "execute_result",
          "data": {
            "text/plain": [
              "(13260, 35425)"
            ]
          },
          "metadata": {
            "tags": []
          },
          "execution_count": 28
        }
      ]
    },
    {
      "cell_type": "markdown",
      "metadata": {
        "id": "WE4QKhKtGikh"
      },
      "source": [
        "For training the model"
      ]
    },
    {
      "cell_type": "code",
      "metadata": {
        "id": "xTRS2mdl_zRd"
      },
      "source": [
        "from sklearn.model_selection import train_test_split\n"
      ],
      "execution_count": 29,
      "outputs": []
    },
    {
      "cell_type": "code",
      "metadata": {
        "id": "IKYtO785_1Gu"
      },
      "source": [
        "X_train, X_test, y_train, y_test = train_test_split(X_c, y)\n"
      ],
      "execution_count": 30,
      "outputs": []
    },
    {
      "cell_type": "code",
      "metadata": {
        "id": "dOh4ql8Z_5RU"
      },
      "source": [
        "\n",
        "df3['description'].replace('', np.nan, inplace=True)\n"
      ],
      "execution_count": 31,
      "outputs": []
    },
    {
      "cell_type": "code",
      "metadata": {
        "id": "qy25KHrQ_8Bm"
      },
      "source": [
        "df3.dropna(subset=['description'], inplace=True)\n"
      ],
      "execution_count": 32,
      "outputs": []
    },
    {
      "cell_type": "markdown",
      "metadata": {
        "id": "uUUEQ-GyGxzt"
      },
      "source": [
        "Using RandomForestClassifier as product categorization is a classification problem "
      ]
    },
    {
      "cell_type": "markdown",
      "metadata": {
        "id": "UXGEohFjLVqI"
      },
      "source": [
        "Random forest classifier will handle the missing values and maintain the accuracy of a large proportion of data.\n"
      ]
    },
    {
      "cell_type": "code",
      "metadata": {
        "colab": {
          "base_uri": "https://localhost:8080/"
        },
        "id": "tUVXxPR2ACcC",
        "outputId": "7b09bd06-6197-407f-ff0c-1b20d9d26c05"
      },
      "source": [
        "from sklearn.ensemble import RandomForestClassifier\n",
        "RF_clf = RandomForestClassifier(n_estimators=10)\n",
        "\n",
        "ml = RF_clf.fit(X_train, y_train)"
      ],
      "execution_count": 33,
      "outputs": [
        {
          "output_type": "stream",
          "text": [
            "/usr/local/lib/python3.7/dist-packages/ipykernel_launcher.py:4: DataConversionWarning: A column-vector y was passed when a 1d array was expected. Please change the shape of y to (n_samples,), for example using ravel().\n",
            "  after removing the cwd from sys.path.\n"
          ],
          "name": "stderr"
        }
      ]
    },
    {
      "cell_type": "markdown",
      "metadata": {
        "id": "MoaY3SfcI_Ps"
      },
      "source": [
        "Accuracy score"
      ]
    },
    {
      "cell_type": "code",
      "metadata": {
        "colab": {
          "base_uri": "https://localhost:8080/"
        },
        "id": "x_65zu0RfSf3",
        "outputId": "7f0f8bfc-4e8c-41c4-f943-df9578c21b6c"
      },
      "source": [
        "accuracy_score = ml.score(X_test, y_test)\n",
        "print(accuracy_score)"
      ],
      "execution_count": 34,
      "outputs": [
        {
          "output_type": "stream",
          "text": [
            "0.5315233785822021\n"
          ],
          "name": "stdout"
        }
      ]
    },
    {
      "cell_type": "code",
      "metadata": {
        "id": "AcdInx5Kksw2",
        "colab": {
          "base_uri": "https://localhost:8080/",
          "height": 402
        },
        "outputId": "9b0f3f77-3436-43ec-ddcd-4b99258872ba"
      },
      "source": [
        "y_test"
      ],
      "execution_count": 35,
      "outputs": [
        {
          "output_type": "execute_result",
          "data": {
            "text/html": [
              "<div>\n",
              "<style scoped>\n",
              "    .dataframe tbody tr th:only-of-type {\n",
              "        vertical-align: middle;\n",
              "    }\n",
              "\n",
              "    .dataframe tbody tr th {\n",
              "        vertical-align: top;\n",
              "    }\n",
              "\n",
              "    .dataframe thead th {\n",
              "        text-align: right;\n",
              "    }\n",
              "</style>\n",
              "<table border=\"1\" class=\"dataframe\">\n",
              "  <thead>\n",
              "    <tr style=\"text-align: right;\">\n",
              "      <th></th>\n",
              "      <th>product_category_tree</th>\n",
              "    </tr>\n",
              "  </thead>\n",
              "  <tbody>\n",
              "    <tr>\n",
              "      <th>3721</th>\n",
              "      <td>[\"automotive &gt;&gt; accessories &amp; spare parts &gt;&gt; c...</td>\n",
              "    </tr>\n",
              "    <tr>\n",
              "      <th>9987</th>\n",
              "      <td>[\"clothing &gt;&gt; women's clothing &gt;&gt; lingerie, sl...</td>\n",
              "    </tr>\n",
              "    <tr>\n",
              "      <th>6790</th>\n",
              "      <td>[\"jewellery &gt;&gt; necklaces &amp; chains &gt;&gt; necklaces\"]</td>\n",
              "    </tr>\n",
              "    <tr>\n",
              "      <th>3140</th>\n",
              "      <td>[\"computers &gt;&gt; laptop accessories &gt;&gt; mouse pad...</td>\n",
              "    </tr>\n",
              "    <tr>\n",
              "      <th>5022</th>\n",
              "      <td>[\"automotive &gt;&gt; accessories &amp; spare parts &gt;&gt; c...</td>\n",
              "    </tr>\n",
              "    <tr>\n",
              "      <th>...</th>\n",
              "      <td>...</td>\n",
              "    </tr>\n",
              "    <tr>\n",
              "      <th>1827</th>\n",
              "      <td>[\"mobiles &amp; accessories &gt;&gt; tablet accessories ...</td>\n",
              "    </tr>\n",
              "    <tr>\n",
              "      <th>2132</th>\n",
              "      <td>[\"clothing &gt;&gt; women's clothing &gt;&gt; lingerie, sl...</td>\n",
              "    </tr>\n",
              "    <tr>\n",
              "      <th>8795</th>\n",
              "      <td>[\"watches &gt;&gt; wrist watches &gt;&gt; maxima wrist wat...</td>\n",
              "    </tr>\n",
              "    <tr>\n",
              "      <th>10492</th>\n",
              "      <td>[\"clothing &gt;&gt; men's clothing &gt;&gt; sports wear &gt;&gt;...</td>\n",
              "    </tr>\n",
              "    <tr>\n",
              "      <th>3061</th>\n",
              "      <td>[\"footwear &gt;&gt; women's footwear &gt;&gt; ballerinas &gt;...</td>\n",
              "    </tr>\n",
              "  </tbody>\n",
              "</table>\n",
              "<p>3315 rows × 1 columns</p>\n",
              "</div>"
            ],
            "text/plain": [
              "                                   product_category_tree\n",
              "3721   [\"automotive >> accessories & spare parts >> c...\n",
              "9987   [\"clothing >> women's clothing >> lingerie, sl...\n",
              "6790    [\"jewellery >> necklaces & chains >> necklaces\"]\n",
              "3140   [\"computers >> laptop accessories >> mouse pad...\n",
              "5022   [\"automotive >> accessories & spare parts >> c...\n",
              "...                                                  ...\n",
              "1827   [\"mobiles & accessories >> tablet accessories ...\n",
              "2132   [\"clothing >> women's clothing >> lingerie, sl...\n",
              "8795   [\"watches >> wrist watches >> maxima wrist wat...\n",
              "10492  [\"clothing >> men's clothing >> sports wear >>...\n",
              "3061   [\"footwear >> women's footwear >> ballerinas >...\n",
              "\n",
              "[3315 rows x 1 columns]"
            ]
          },
          "metadata": {
            "tags": []
          },
          "execution_count": 35
        }
      ]
    },
    {
      "cell_type": "markdown",
      "metadata": {
        "id": "oc-TWR5xJCPT"
      },
      "source": [
        "Prediction"
      ]
    },
    {
      "cell_type": "markdown",
      "metadata": {
        "id": "hI5ccrzeJFfc"
      },
      "source": [
        "When we give X_test as input this is what we get as output"
      ]
    },
    {
      "cell_type": "code",
      "metadata": {
        "colab": {
          "base_uri": "https://localhost:8080/"
        },
        "id": "3pQw_uFBkTr7",
        "outputId": "302207dc-6059-4475-8896-a10ed5eed22d"
      },
      "source": [
        "pred = ml.predict(X_test)\n",
        "print(pred)"
      ],
      "execution_count": 36,
      "outputs": [
        {
          "output_type": "stream",
          "text": [
            "['[\"automotive >> accessories & spare parts >> car interior & exterior >> car interior >> car mats\"]'\n",
            " '[\"footwear >> women\\'s footwear >> casual shoes >> loafers\"]'\n",
            " '[\"jewellery >> necklaces & chains >> necklaces\"]' ...\n",
            " '[\"footwear >> women\\'s footwear >> casual shoes >> loafers\"]'\n",
            " '[\"footwear >> women\\'s footwear >> casual shoes >> loafers\"]'\n",
            " '[\"footwear >> women\\'s footwear >> ballerinas >> oggo deo bellies\"]']\n"
          ],
          "name": "stdout"
        }
      ]
    },
    {
      "cell_type": "markdown",
      "metadata": {
        "id": "xZUE05cPIEZH"
      },
      "source": [
        "Confusion matrix"
      ]
    },
    {
      "cell_type": "code",
      "metadata": {
        "id": "FUBkD811sUPD"
      },
      "source": [
        "from sklearn.metrics import confusion_matrix,accuracy_score"
      ],
      "execution_count": 37,
      "outputs": []
    },
    {
      "cell_type": "markdown",
      "metadata": {
        "id": "loWGFUKbK3y5"
      },
      "source": [
        "A confusion matrix is a table that is often used to describe the performance of a classification model (or \"classifier\") on a set of test data for which the true values are known"
      ]
    },
    {
      "cell_type": "code",
      "metadata": {
        "colab": {
          "base_uri": "https://localhost:8080/"
        },
        "id": "idGULZ-PBkpv",
        "outputId": "d12ccb67-0482-4f67-ae96-6475b3341ebb"
      },
      "source": [
        "confusion_matrix(y_test, pred)"
      ],
      "execution_count": 38,
      "outputs": [
        {
          "output_type": "execute_result",
          "data": {
            "text/plain": [
              "array([[0, 0, 0, ..., 0, 0, 0],\n",
              "       [0, 1, 0, ..., 0, 0, 0],\n",
              "       [0, 0, 0, ..., 0, 0, 0],\n",
              "       ...,\n",
              "       [0, 0, 0, ..., 0, 0, 0],\n",
              "       [0, 0, 0, ..., 0, 0, 0],\n",
              "       [0, 0, 0, ..., 0, 0, 0]])"
            ]
          },
          "metadata": {
            "tags": []
          },
          "execution_count": 38
        }
      ]
    },
    {
      "cell_type": "code",
      "metadata": {
        "id": "SFmjE_2_BkkA",
        "colab": {
          "base_uri": "https://localhost:8080/"
        },
        "outputId": "b67e13af-fadb-4352-e58d-7075b01c306a"
      },
      "source": [
        "!pip install xgboost"
      ],
      "execution_count": 39,
      "outputs": [
        {
          "output_type": "stream",
          "text": [
            "Requirement already satisfied: xgboost in /usr/local/lib/python3.7/dist-packages (1.3.3)\n",
            "Requirement already satisfied: scipy in /usr/local/lib/python3.7/dist-packages (from xgboost) (1.4.1)\n",
            "Requirement already satisfied: numpy in /usr/local/lib/python3.7/dist-packages (from xgboost) (1.19.5)\n"
          ],
          "name": "stdout"
        }
      ]
    },
    {
      "cell_type": "code",
      "metadata": {
        "colab": {
          "base_uri": "https://localhost:8080/"
        },
        "id": "TtfDfTuot8lc",
        "outputId": "f8ba7930-3150-4fe2-ade9-a8160255d802"
      },
      "source": [
        "!pip install --upgrade xgboost"
      ],
      "execution_count": 40,
      "outputs": [
        {
          "output_type": "stream",
          "text": [
            "Requirement already up-to-date: xgboost in /usr/local/lib/python3.7/dist-packages (1.3.3)\n",
            "Requirement already satisfied, skipping upgrade: numpy in /usr/local/lib/python3.7/dist-packages (from xgboost) (1.19.5)\n",
            "Requirement already satisfied, skipping upgrade: scipy in /usr/local/lib/python3.7/dist-packages (from xgboost) (1.4.1)\n"
          ],
          "name": "stdout"
        }
      ]
    },
    {
      "cell_type": "code",
      "metadata": {
        "id": "K-h90weHt_g6"
      },
      "source": [
        "import re\n",
        "\n",
        "regex = re.compile(r\"\\[|\\]|<\", re.IGNORECASE)\n",
        "\n",
        "X_train.columns = [regex.sub(\"_\", col) if any(x in str(col) for x in set(('[', ']', '<'))) else col for col in X_train.columns.values]"
      ],
      "execution_count": 41,
      "outputs": []
    },
    {
      "cell_type": "code",
      "metadata": {
        "colab": {
          "base_uri": "https://localhost:8080/",
          "height": 407
        },
        "id": "ILmUTI3WwfUv",
        "outputId": "66f0c116-2a3e-433f-d7f7-ee94d2b6bfed"
      },
      "source": [
        "from sklearn.ensemble import RandomForestRegressor\n",
        "RF_clf = RandomForestRegressor(n_estimators=10)\n",
        "\n",
        "ml = RF_clf.fit(X_train, y_train)"
      ],
      "execution_count": 42,
      "outputs": [
        {
          "output_type": "stream",
          "text": [
            "/usr/local/lib/python3.7/dist-packages/ipykernel_launcher.py:4: DataConversionWarning: A column-vector y was passed when a 1d array was expected. Please change the shape of y to (n_samples,), for example using ravel().\n",
            "  after removing the cwd from sys.path.\n"
          ],
          "name": "stderr"
        },
        {
          "output_type": "error",
          "ename": "ValueError",
          "evalue": "ignored",
          "traceback": [
            "\u001b[0;31m---------------------------------------------------------------------------\u001b[0m",
            "\u001b[0;31mValueError\u001b[0m                                Traceback (most recent call last)",
            "\u001b[0;32m<ipython-input-42-a41ea83fb0b5>\u001b[0m in \u001b[0;36m<module>\u001b[0;34m()\u001b[0m\n\u001b[1;32m      2\u001b[0m \u001b[0mRF_clf\u001b[0m \u001b[0;34m=\u001b[0m \u001b[0mRandomForestRegressor\u001b[0m\u001b[0;34m(\u001b[0m\u001b[0mn_estimators\u001b[0m\u001b[0;34m=\u001b[0m\u001b[0;36m10\u001b[0m\u001b[0;34m)\u001b[0m\u001b[0;34m\u001b[0m\u001b[0;34m\u001b[0m\u001b[0m\n\u001b[1;32m      3\u001b[0m \u001b[0;34m\u001b[0m\u001b[0m\n\u001b[0;32m----> 4\u001b[0;31m \u001b[0mml\u001b[0m \u001b[0;34m=\u001b[0m \u001b[0mRF_clf\u001b[0m\u001b[0;34m.\u001b[0m\u001b[0mfit\u001b[0m\u001b[0;34m(\u001b[0m\u001b[0mX_train\u001b[0m\u001b[0;34m,\u001b[0m \u001b[0my_train\u001b[0m\u001b[0;34m)\u001b[0m\u001b[0;34m\u001b[0m\u001b[0;34m\u001b[0m\u001b[0m\n\u001b[0m",
            "\u001b[0;32m/usr/local/lib/python3.7/dist-packages/sklearn/ensemble/_forest.py\u001b[0m in \u001b[0;36mfit\u001b[0;34m(self, X, y, sample_weight)\u001b[0m\n\u001b[1;32m    322\u001b[0m \u001b[0;34m\u001b[0m\u001b[0m\n\u001b[1;32m    323\u001b[0m         \u001b[0;32mif\u001b[0m \u001b[0mgetattr\u001b[0m\u001b[0;34m(\u001b[0m\u001b[0my\u001b[0m\u001b[0;34m,\u001b[0m \u001b[0;34m\"dtype\"\u001b[0m\u001b[0;34m,\u001b[0m \u001b[0;32mNone\u001b[0m\u001b[0;34m)\u001b[0m \u001b[0;34m!=\u001b[0m \u001b[0mDOUBLE\u001b[0m \u001b[0;32mor\u001b[0m \u001b[0;32mnot\u001b[0m \u001b[0my\u001b[0m\u001b[0;34m.\u001b[0m\u001b[0mflags\u001b[0m\u001b[0;34m.\u001b[0m\u001b[0mcontiguous\u001b[0m\u001b[0;34m:\u001b[0m\u001b[0;34m\u001b[0m\u001b[0;34m\u001b[0m\u001b[0m\n\u001b[0;32m--> 324\u001b[0;31m             \u001b[0my\u001b[0m \u001b[0;34m=\u001b[0m \u001b[0mnp\u001b[0m\u001b[0;34m.\u001b[0m\u001b[0mascontiguousarray\u001b[0m\u001b[0;34m(\u001b[0m\u001b[0my\u001b[0m\u001b[0;34m,\u001b[0m \u001b[0mdtype\u001b[0m\u001b[0;34m=\u001b[0m\u001b[0mDOUBLE\u001b[0m\u001b[0;34m)\u001b[0m\u001b[0;34m\u001b[0m\u001b[0;34m\u001b[0m\u001b[0m\n\u001b[0m\u001b[1;32m    325\u001b[0m \u001b[0;34m\u001b[0m\u001b[0m\n\u001b[1;32m    326\u001b[0m         \u001b[0;32mif\u001b[0m \u001b[0mexpanded_class_weight\u001b[0m \u001b[0;32mis\u001b[0m \u001b[0;32mnot\u001b[0m \u001b[0;32mNone\u001b[0m\u001b[0;34m:\u001b[0m\u001b[0;34m\u001b[0m\u001b[0;34m\u001b[0m\u001b[0m\n",
            "\u001b[0;32m/usr/local/lib/python3.7/dist-packages/numpy/core/_asarray.py\u001b[0m in \u001b[0;36mascontiguousarray\u001b[0;34m(a, dtype)\u001b[0m\n\u001b[1;32m    175\u001b[0m \u001b[0;34m\u001b[0m\u001b[0m\n\u001b[1;32m    176\u001b[0m     \"\"\"\n\u001b[0;32m--> 177\u001b[0;31m     \u001b[0;32mreturn\u001b[0m \u001b[0marray\u001b[0m\u001b[0;34m(\u001b[0m\u001b[0ma\u001b[0m\u001b[0;34m,\u001b[0m \u001b[0mdtype\u001b[0m\u001b[0;34m,\u001b[0m \u001b[0mcopy\u001b[0m\u001b[0;34m=\u001b[0m\u001b[0;32mFalse\u001b[0m\u001b[0;34m,\u001b[0m \u001b[0morder\u001b[0m\u001b[0;34m=\u001b[0m\u001b[0;34m'C'\u001b[0m\u001b[0;34m,\u001b[0m \u001b[0mndmin\u001b[0m\u001b[0;34m=\u001b[0m\u001b[0;36m1\u001b[0m\u001b[0;34m)\u001b[0m\u001b[0;34m\u001b[0m\u001b[0;34m\u001b[0m\u001b[0m\n\u001b[0m\u001b[1;32m    178\u001b[0m \u001b[0;34m\u001b[0m\u001b[0m\n\u001b[1;32m    179\u001b[0m \u001b[0;34m\u001b[0m\u001b[0m\n",
            "\u001b[0;31mValueError\u001b[0m: could not convert string to float: '[\"clothing >> men\\'s clothing >> inner wear & sleep wear >> vests >> l\\'appel du vide vests >> l\\'appel du vide men\\'s vest (pack of 2)\"]'"
          ]
        }
      ]
    },
    {
      "cell_type": "code",
      "metadata": {
        "id": "Qa2cPIS8ykro"
      },
      "source": [
        "from sklearn.linear_model import LogisticRegression\n",
        "log = LogisticRegression()"
      ],
      "execution_count": null,
      "outputs": []
    },
    {
      "cell_type": "code",
      "metadata": {
        "id": "s_zau9GMymsu"
      },
      "source": [
        "ma = log.fit(X_train, y_train)"
      ],
      "execution_count": null,
      "outputs": []
    },
    {
      "cell_type": "code",
      "metadata": {
        "id": "h2TP2ZbRyoll"
      },
      "source": [
        "ma.score(X_test, y_test)"
      ],
      "execution_count": null,
      "outputs": []
    },
    {
      "cell_type": "code",
      "metadata": {
        "id": "qUAr9keMuFh0"
      },
      "source": [
        "from xgboost import XGBClassifier\n",
        "model = XGBClassifier()\n",
        "m = model.fit(X_train, y_train)"
      ],
      "execution_count": null,
      "outputs": []
    },
    {
      "cell_type": "code",
      "metadata": {
        "id": "LaMm3qQvuHLk"
      },
      "source": [
        "accuracy_score = m.score(X_test, y_test)"
      ],
      "execution_count": null,
      "outputs": []
    }
  ]
}