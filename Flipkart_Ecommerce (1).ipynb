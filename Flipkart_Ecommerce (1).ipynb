{
  "nbformat": 4,
  "nbformat_minor": 0,
  "metadata": {
    "colab": {
      "name": "Flipkart-Ecommerce.ipynb",
      "provenance": []
    },
    "kernelspec": {
      "name": "python3",
      "display_name": "Python 3"
    },
    "language_info": {
      "name": "python"
    }
  },
  "cells": [
    {
      "cell_type": "code",
      "metadata": {
        "id": "eGIpUoiT-OJP"
      },
      "source": [
        "import pandas as pd\n",
        "import numpy as np"
      ],
      "execution_count": 1,
      "outputs": []
    },
    {
      "cell_type": "markdown",
      "metadata": {
        "id": "WsRaACsVrd-D"
      },
      "source": [
        "Reading csv file using pandas"
      ]
    },
    {
      "cell_type": "code",
      "metadata": {
        "colab": {
          "base_uri": "https://localhost:8080/",
          "height": 227
        },
        "id": "71XUYGKp-V0l",
        "outputId": "b4e843d4-4155-43c1-a787-d54f5465d1df"
      },
      "source": [
        "df1 = pd.read_csv('Flipkart_ecommerce.csv')\n",
        "df1.head(2)"
      ],
      "execution_count": 2,
      "outputs": [
        {
          "output_type": "execute_result",
          "data": {
            "text/html": [
              "<div>\n",
              "<style scoped>\n",
              "    .dataframe tbody tr th:only-of-type {\n",
              "        vertical-align: middle;\n",
              "    }\n",
              "\n",
              "    .dataframe tbody tr th {\n",
              "        vertical-align: top;\n",
              "    }\n",
              "\n",
              "    .dataframe thead th {\n",
              "        text-align: right;\n",
              "    }\n",
              "</style>\n",
              "<table border=\"1\" class=\"dataframe\">\n",
              "  <thead>\n",
              "    <tr style=\"text-align: right;\">\n",
              "      <th></th>\n",
              "      <th>uniq_id</th>\n",
              "      <th>crawl_timestamp</th>\n",
              "      <th>product_url</th>\n",
              "      <th>product_name</th>\n",
              "      <th>product_category_tree</th>\n",
              "      <th>pid</th>\n",
              "      <th>retail_price</th>\n",
              "      <th>discounted_price</th>\n",
              "      <th>image</th>\n",
              "      <th>is_FK_Advantage_product</th>\n",
              "      <th>description</th>\n",
              "      <th>product_rating</th>\n",
              "      <th>overall_rating</th>\n",
              "      <th>brand</th>\n",
              "      <th>product_specifications</th>\n",
              "    </tr>\n",
              "  </thead>\n",
              "  <tbody>\n",
              "    <tr>\n",
              "      <th>0</th>\n",
              "      <td>c2d766ca982eca8304150849735ffef9</td>\n",
              "      <td>2016-03-25 22:59:23 +0000</td>\n",
              "      <td>http://www.flipkart.com/alisha-solid-women-s-c...</td>\n",
              "      <td>Alisha Solid Women's Cycling Shorts</td>\n",
              "      <td>[\"Clothing &gt;&gt; Women's Clothing &gt;&gt; Lingerie, Sl...</td>\n",
              "      <td>SRTEH2FF9KEDEFGF</td>\n",
              "      <td>999.0</td>\n",
              "      <td>379.0</td>\n",
              "      <td>[\"http://img5a.flixcart.com/image/short/u/4/a/...</td>\n",
              "      <td>False</td>\n",
              "      <td>Key Features of Alisha Solid Women's Cycling S...</td>\n",
              "      <td>No rating available</td>\n",
              "      <td>No rating available</td>\n",
              "      <td>Alisha</td>\n",
              "      <td>{\"product_specification\"=&gt;[{\"key\"=&gt;\"Number of ...</td>\n",
              "    </tr>\n",
              "    <tr>\n",
              "      <th>1</th>\n",
              "      <td>7f7036a6d550aaa89d34c77bd39a5e48</td>\n",
              "      <td>2016-03-25 22:59:23 +0000</td>\n",
              "      <td>http://www.flipkart.com/fabhomedecor-fabric-do...</td>\n",
              "      <td>FabHomeDecor Fabric Double Sofa Bed</td>\n",
              "      <td>[\"Furniture &gt;&gt; Living Room Furniture &gt;&gt; Sofa B...</td>\n",
              "      <td>SBEEH3QGU7MFYJFY</td>\n",
              "      <td>32157.0</td>\n",
              "      <td>22646.0</td>\n",
              "      <td>[\"http://img6a.flixcart.com/image/sofa-bed/j/f...</td>\n",
              "      <td>False</td>\n",
              "      <td>FabHomeDecor Fabric Double Sofa Bed (Finish Co...</td>\n",
              "      <td>No rating available</td>\n",
              "      <td>No rating available</td>\n",
              "      <td>FabHomeDecor</td>\n",
              "      <td>{\"product_specification\"=&gt;[{\"key\"=&gt;\"Installati...</td>\n",
              "    </tr>\n",
              "  </tbody>\n",
              "</table>\n",
              "</div>"
            ],
            "text/plain": [
              "                            uniq_id  ...                             product_specifications\n",
              "0  c2d766ca982eca8304150849735ffef9  ...  {\"product_specification\"=>[{\"key\"=>\"Number of ...\n",
              "1  7f7036a6d550aaa89d34c77bd39a5e48  ...  {\"product_specification\"=>[{\"key\"=>\"Installati...\n",
              "\n",
              "[2 rows x 15 columns]"
            ]
          },
          "metadata": {
            "tags": []
          },
          "execution_count": 2
        }
      ]
    },
    {
      "cell_type": "markdown",
      "metadata": {
        "id": "0O1GW6yXCj5I"
      },
      "source": [
        "shape is used to get the dimension of the dataframe\n",
        "\n",
        "we have 20000 rows and 15 columns"
      ]
    },
    {
      "cell_type": "code",
      "metadata": {
        "colab": {
          "base_uri": "https://localhost:8080/"
        },
        "id": "xByV7pqX-_2o",
        "outputId": "fcf7c837-5a3e-4f23-ccdb-fe9b1bd853a3"
      },
      "source": [
        "df1.shape"
      ],
      "execution_count": 3,
      "outputs": [
        {
          "output_type": "execute_result",
          "data": {
            "text/plain": [
              "(20000, 15)"
            ]
          },
          "metadata": {
            "tags": []
          },
          "execution_count": 3
        }
      ]
    },
    {
      "cell_type": "markdown",
      "metadata": {
        "id": "J64jEWjNCeDs"
      },
      "source": [
        "data type of column brand"
      ]
    },
    {
      "cell_type": "code",
      "metadata": {
        "colab": {
          "base_uri": "https://localhost:8080/"
        },
        "id": "gAv1txnoJUNY",
        "outputId": "89b7e9d5-0418-4af5-a4c0-1208f7599c55"
      },
      "source": [
        "df1['brand'].dtypes\n"
      ],
      "execution_count": 4,
      "outputs": [
        {
          "output_type": "execute_result",
          "data": {
            "text/plain": [
              "dtype('O')"
            ]
          },
          "metadata": {
            "tags": []
          },
          "execution_count": 4
        }
      ]
    },
    {
      "cell_type": "markdown",
      "metadata": {
        "id": "mLiAUX_LCbeD"
      },
      "source": [
        "Name of columns"
      ]
    },
    {
      "cell_type": "code",
      "metadata": {
        "colab": {
          "base_uri": "https://localhost:8080/"
        },
        "id": "NMlm-Ro__CRR",
        "outputId": "bbdcd89d-6309-46fe-91aa-d0726b531a2b"
      },
      "source": [
        "df1.columns"
      ],
      "execution_count": 5,
      "outputs": [
        {
          "output_type": "execute_result",
          "data": {
            "text/plain": [
              "Index(['uniq_id', 'crawl_timestamp', 'product_url', 'product_name',\n",
              "       'product_category_tree', 'pid', 'retail_price', 'discounted_price',\n",
              "       'image', 'is_FK_Advantage_product', 'description', 'product_rating',\n",
              "       'overall_rating', 'brand', 'product_specifications'],\n",
              "      dtype='object')"
            ]
          },
          "metadata": {
            "tags": []
          },
          "execution_count": 5
        }
      ]
    },
    {
      "cell_type": "markdown",
      "metadata": {
        "id": "--KFa5buCK7Q"
      },
      "source": [
        "describe() is used to get more information about a particular column to help us in understanding the data better"
      ]
    },
    {
      "cell_type": "code",
      "metadata": {
        "colab": {
          "base_uri": "https://localhost:8080/"
        },
        "id": "ZSY15sC-_FJL",
        "outputId": "b1376a61-d33e-4173-a864-5aad50460690"
      },
      "source": [
        "df1.product_category_tree.describe()\n"
      ],
      "execution_count": 6,
      "outputs": [
        {
          "output_type": "execute_result",
          "data": {
            "text/plain": [
              "count                                                20000\n",
              "unique                                                6466\n",
              "top       [\"Jewellery >> Necklaces & Chains >> Necklaces\"]\n",
              "freq                                                  1567\n",
              "Name: product_category_tree, dtype: object"
            ]
          },
          "metadata": {
            "tags": []
          },
          "execution_count": 6
        }
      ]
    },
    {
      "cell_type": "markdown",
      "metadata": {
        "id": "c-z3gkufB18-"
      },
      "source": [
        "isnull() is used to find number of null values in each column and using \n",
        "\n",
        "sort_values() we are sorting it in ascending order here"
      ]
    },
    {
      "cell_type": "code",
      "metadata": {
        "colab": {
          "base_uri": "https://localhost:8080/"
        },
        "id": "8bJgqcoC_Hue",
        "outputId": "a1e6b161-4dbb-465b-ad01-2d19e0e9d29a"
      },
      "source": [
        "df1.isnull().sum().sort_values(ascending = False)"
      ],
      "execution_count": 7,
      "outputs": [
        {
          "output_type": "execute_result",
          "data": {
            "text/plain": [
              "brand                      5864\n",
              "discounted_price             78\n",
              "retail_price                 78\n",
              "product_specifications       14\n",
              "image                         3\n",
              "description                   2\n",
              "overall_rating                0\n",
              "product_rating                0\n",
              "is_FK_Advantage_product       0\n",
              "pid                           0\n",
              "product_category_tree         0\n",
              "product_name                  0\n",
              "product_url                   0\n",
              "crawl_timestamp               0\n",
              "uniq_id                       0\n",
              "dtype: int64"
            ]
          },
          "metadata": {
            "tags": []
          },
          "execution_count": 7
        }
      ]
    },
    {
      "cell_type": "markdown",
      "metadata": {
        "id": "SxWbgKZCCzUU"
      },
      "source": [
        "Dropping columns discounted_price, retail_price, overall_rating and product_rating as they don't contribute significantly in determining the prodcut category"
      ]
    },
    {
      "cell_type": "code",
      "metadata": {
        "colab": {
          "base_uri": "https://localhost:8080/",
          "height": 227
        },
        "id": "bb_iVDJG_Ju7",
        "outputId": "1322795c-7f03-4923-f179-7d6c1fc43435"
      },
      "source": [
        "df2 = df1.drop(['discounted_price','retail_price','overall_rating','product_rating',], axis = 'columns')\n",
        "df2.head(2)"
      ],
      "execution_count": 8,
      "outputs": [
        {
          "output_type": "execute_result",
          "data": {
            "text/html": [
              "<div>\n",
              "<style scoped>\n",
              "    .dataframe tbody tr th:only-of-type {\n",
              "        vertical-align: middle;\n",
              "    }\n",
              "\n",
              "    .dataframe tbody tr th {\n",
              "        vertical-align: top;\n",
              "    }\n",
              "\n",
              "    .dataframe thead th {\n",
              "        text-align: right;\n",
              "    }\n",
              "</style>\n",
              "<table border=\"1\" class=\"dataframe\">\n",
              "  <thead>\n",
              "    <tr style=\"text-align: right;\">\n",
              "      <th></th>\n",
              "      <th>uniq_id</th>\n",
              "      <th>crawl_timestamp</th>\n",
              "      <th>product_url</th>\n",
              "      <th>product_name</th>\n",
              "      <th>product_category_tree</th>\n",
              "      <th>pid</th>\n",
              "      <th>image</th>\n",
              "      <th>is_FK_Advantage_product</th>\n",
              "      <th>description</th>\n",
              "      <th>brand</th>\n",
              "      <th>product_specifications</th>\n",
              "    </tr>\n",
              "  </thead>\n",
              "  <tbody>\n",
              "    <tr>\n",
              "      <th>0</th>\n",
              "      <td>c2d766ca982eca8304150849735ffef9</td>\n",
              "      <td>2016-03-25 22:59:23 +0000</td>\n",
              "      <td>http://www.flipkart.com/alisha-solid-women-s-c...</td>\n",
              "      <td>Alisha Solid Women's Cycling Shorts</td>\n",
              "      <td>[\"Clothing &gt;&gt; Women's Clothing &gt;&gt; Lingerie, Sl...</td>\n",
              "      <td>SRTEH2FF9KEDEFGF</td>\n",
              "      <td>[\"http://img5a.flixcart.com/image/short/u/4/a/...</td>\n",
              "      <td>False</td>\n",
              "      <td>Key Features of Alisha Solid Women's Cycling S...</td>\n",
              "      <td>Alisha</td>\n",
              "      <td>{\"product_specification\"=&gt;[{\"key\"=&gt;\"Number of ...</td>\n",
              "    </tr>\n",
              "    <tr>\n",
              "      <th>1</th>\n",
              "      <td>7f7036a6d550aaa89d34c77bd39a5e48</td>\n",
              "      <td>2016-03-25 22:59:23 +0000</td>\n",
              "      <td>http://www.flipkart.com/fabhomedecor-fabric-do...</td>\n",
              "      <td>FabHomeDecor Fabric Double Sofa Bed</td>\n",
              "      <td>[\"Furniture &gt;&gt; Living Room Furniture &gt;&gt; Sofa B...</td>\n",
              "      <td>SBEEH3QGU7MFYJFY</td>\n",
              "      <td>[\"http://img6a.flixcart.com/image/sofa-bed/j/f...</td>\n",
              "      <td>False</td>\n",
              "      <td>FabHomeDecor Fabric Double Sofa Bed (Finish Co...</td>\n",
              "      <td>FabHomeDecor</td>\n",
              "      <td>{\"product_specification\"=&gt;[{\"key\"=&gt;\"Installati...</td>\n",
              "    </tr>\n",
              "  </tbody>\n",
              "</table>\n",
              "</div>"
            ],
            "text/plain": [
              "                            uniq_id  ...                             product_specifications\n",
              "0  c2d766ca982eca8304150849735ffef9  ...  {\"product_specification\"=>[{\"key\"=>\"Number of ...\n",
              "1  7f7036a6d550aaa89d34c77bd39a5e48  ...  {\"product_specification\"=>[{\"key\"=>\"Installati...\n",
              "\n",
              "[2 rows x 11 columns]"
            ]
          },
          "metadata": {
            "tags": []
          },
          "execution_count": 8
        }
      ]
    },
    {
      "cell_type": "markdown",
      "metadata": {
        "id": "tEIGU61VDCzH"
      },
      "source": [
        "Checking for null values in the df2 dataframe"
      ]
    },
    {
      "cell_type": "code",
      "metadata": {
        "colab": {
          "base_uri": "https://localhost:8080/"
        },
        "id": "Fq8RsTKyJB-U",
        "outputId": "9a137a35-b1a9-4659-f63b-86fa336f582c"
      },
      "source": [
        "df2.isnull().sum().sort_values(ascending = False)"
      ],
      "execution_count": 9,
      "outputs": [
        {
          "output_type": "execute_result",
          "data": {
            "text/plain": [
              "brand                      5864\n",
              "product_specifications       14\n",
              "image                         3\n",
              "description                   2\n",
              "is_FK_Advantage_product       0\n",
              "pid                           0\n",
              "product_category_tree         0\n",
              "product_name                  0\n",
              "product_url                   0\n",
              "crawl_timestamp               0\n",
              "uniq_id                       0\n",
              "dtype: int64"
            ]
          },
          "metadata": {
            "tags": []
          },
          "execution_count": 9
        }
      ]
    },
    {
      "cell_type": "markdown",
      "metadata": {
        "id": "wdVDdFkmDL3G"
      },
      "source": [
        "we are gaining more information of the columns that do not have numerical data type"
      ]
    },
    {
      "cell_type": "code",
      "metadata": {
        "colab": {
          "base_uri": "https://localhost:8080/",
          "height": 236
        },
        "id": "UoxYvVjZ_Q_l",
        "outputId": "8d544367-a557-4a41-ff88-c9085ed7b8b5"
      },
      "source": [
        "categoricals = df1.select_dtypes(exclude=[np.number])\n",
        "categoricals.describe()\n",
        "#The count column indicates the count of non-null observations, while unique counts the number of unique values. top is the most commonly occurring value, with the frequency of the top value shown by freq.\n",
        "\n"
      ],
      "execution_count": 10,
      "outputs": [
        {
          "output_type": "execute_result",
          "data": {
            "text/html": [
              "<div>\n",
              "<style scoped>\n",
              "    .dataframe tbody tr th:only-of-type {\n",
              "        vertical-align: middle;\n",
              "    }\n",
              "\n",
              "    .dataframe tbody tr th {\n",
              "        vertical-align: top;\n",
              "    }\n",
              "\n",
              "    .dataframe thead th {\n",
              "        text-align: right;\n",
              "    }\n",
              "</style>\n",
              "<table border=\"1\" class=\"dataframe\">\n",
              "  <thead>\n",
              "    <tr style=\"text-align: right;\">\n",
              "      <th></th>\n",
              "      <th>uniq_id</th>\n",
              "      <th>crawl_timestamp</th>\n",
              "      <th>product_url</th>\n",
              "      <th>product_name</th>\n",
              "      <th>product_category_tree</th>\n",
              "      <th>pid</th>\n",
              "      <th>image</th>\n",
              "      <th>is_FK_Advantage_product</th>\n",
              "      <th>description</th>\n",
              "      <th>product_rating</th>\n",
              "      <th>overall_rating</th>\n",
              "      <th>brand</th>\n",
              "      <th>product_specifications</th>\n",
              "    </tr>\n",
              "  </thead>\n",
              "  <tbody>\n",
              "    <tr>\n",
              "      <th>count</th>\n",
              "      <td>20000</td>\n",
              "      <td>20000</td>\n",
              "      <td>20000</td>\n",
              "      <td>20000</td>\n",
              "      <td>20000</td>\n",
              "      <td>20000</td>\n",
              "      <td>19997</td>\n",
              "      <td>20000</td>\n",
              "      <td>19998</td>\n",
              "      <td>20000</td>\n",
              "      <td>20000</td>\n",
              "      <td>14136</td>\n",
              "      <td>19986</td>\n",
              "    </tr>\n",
              "    <tr>\n",
              "      <th>unique</th>\n",
              "      <td>20000</td>\n",
              "      <td>371</td>\n",
              "      <td>20000</td>\n",
              "      <td>12676</td>\n",
              "      <td>6466</td>\n",
              "      <td>19998</td>\n",
              "      <td>18589</td>\n",
              "      <td>2</td>\n",
              "      <td>17539</td>\n",
              "      <td>36</td>\n",
              "      <td>36</td>\n",
              "      <td>3499</td>\n",
              "      <td>18825</td>\n",
              "    </tr>\n",
              "    <tr>\n",
              "      <th>top</th>\n",
              "      <td>78fb91847feb9d935cde44c2fdd79439</td>\n",
              "      <td>2015-12-01 12:40:44 +0000</td>\n",
              "      <td>http://www.flipkart.com/kasemantra-back-cover-...</td>\n",
              "      <td>TheLostPuppy Back Cover for Apple iPad Air</td>\n",
              "      <td>[\"Jewellery &gt;&gt; Necklaces &amp; Chains &gt;&gt; Necklaces\"]</td>\n",
              "      <td>JEAEGE8Q8GXYFTGU</td>\n",
              "      <td>[\"http://img6a.flixcart.com/image/car-mat/m/t/...</td>\n",
              "      <td>False</td>\n",
              "      <td>TheLostPuppy Back Cover for Apple iPad Air (Mu...</td>\n",
              "      <td>No rating available</td>\n",
              "      <td>No rating available</td>\n",
              "      <td>Allure Auto</td>\n",
              "      <td>{\"product_specification\"=&gt;[{\"key\"=&gt;\"Type\", \"va...</td>\n",
              "    </tr>\n",
              "    <tr>\n",
              "      <th>freq</th>\n",
              "      <td>1</td>\n",
              "      <td>1979</td>\n",
              "      <td>1</td>\n",
              "      <td>134</td>\n",
              "      <td>1567</td>\n",
              "      <td>2</td>\n",
              "      <td>45</td>\n",
              "      <td>19215</td>\n",
              "      <td>92</td>\n",
              "      <td>18151</td>\n",
              "      <td>18151</td>\n",
              "      <td>469</td>\n",
              "      <td>71</td>\n",
              "    </tr>\n",
              "  </tbody>\n",
              "</table>\n",
              "</div>"
            ],
            "text/plain": [
              "                                 uniq_id  ...                             product_specifications\n",
              "count                              20000  ...                                              19986\n",
              "unique                             20000  ...                                              18825\n",
              "top     78fb91847feb9d935cde44c2fdd79439  ...  {\"product_specification\"=>[{\"key\"=>\"Type\", \"va...\n",
              "freq                                   1  ...                                                 71\n",
              "\n",
              "[4 rows x 13 columns]"
            ]
          },
          "metadata": {
            "tags": []
          },
          "execution_count": 10
        }
      ]
    },
    {
      "cell_type": "markdown",
      "metadata": {
        "id": "oWRKgJpRDV2M"
      },
      "source": [
        "We are dropping crawl_timestamp, is_FK_Advantage_product, image, product_url,pid, uniq_id as they don't contribute significantly when determining product category"
      ]
    },
    {
      "cell_type": "code",
      "metadata": {
        "colab": {
          "base_uri": "https://localhost:8080/"
        },
        "id": "h8XYcMVi_TDA",
        "outputId": "c74a478b-675d-406c-8f70-5273f64267cf"
      },
      "source": [
        "df3 = df2.drop(['crawl_timestamp','is_FK_Advantage_product','image','product_url','pid','uniq_id'], axis = 'columns')\n",
        "\n",
        "df3.columns"
      ],
      "execution_count": 11,
      "outputs": [
        {
          "output_type": "execute_result",
          "data": {
            "text/plain": [
              "Index(['product_name', 'product_category_tree', 'description', 'brand',\n",
              "       'product_specifications'],\n",
              "      dtype='object')"
            ]
          },
          "metadata": {
            "tags": []
          },
          "execution_count": 11
        }
      ]
    },
    {
      "cell_type": "markdown",
      "metadata": {
        "id": "Ng5XdpmhDuGy"
      },
      "source": [
        "Making sure product_name, product_specifications, description has the dtype string as we will need it later on when implementing the algortihms"
      ]
    },
    {
      "cell_type": "code",
      "metadata": {
        "id": "vJ_55PhXWwUa"
      },
      "source": [
        "df3['product_name'] = df3.product_name.astype(str)\n",
        "df3['product_specifications'] = df3.product_specifications.astype(str)\n",
        "df3['description'] = df3.description.astype(str)"
      ],
      "execution_count": 12,
      "outputs": []
    },
    {
      "cell_type": "markdown",
      "metadata": {
        "id": "HoqViaumWkQu"
      },
      "source": [
        "Converting to lower case"
      ]
    },
    {
      "cell_type": "code",
      "metadata": {
        "id": "nj1ZrjSRV7Lu"
      },
      "source": [
        "new_Index = ['product_name', 'product_category_tree','description','brand','product_specifications']\n"
      ],
      "execution_count": 13,
      "outputs": []
    },
    {
      "cell_type": "code",
      "metadata": {
        "id": "52ngKs8uWS3n"
      },
      "source": [
        "df3.columns= new_Index"
      ],
      "execution_count": 14,
      "outputs": []
    },
    {
      "cell_type": "code",
      "metadata": {
        "colab": {
          "base_uri": "https://localhost:8080/"
        },
        "id": "jmDFDGm3WY1z",
        "outputId": "b6c5e5a4-0a2d-42be-adc8-48c61f004148"
      },
      "source": [
        "df1.index"
      ],
      "execution_count": 15,
      "outputs": [
        {
          "output_type": "execute_result",
          "data": {
            "text/plain": [
              "RangeIndex(start=0, stop=20000, step=1)"
            ]
          },
          "metadata": {
            "tags": []
          },
          "execution_count": 15
        }
      ]
    },
    {
      "cell_type": "code",
      "metadata": {
        "colab": {
          "base_uri": "https://localhost:8080/",
          "height": 94
        },
        "id": "sNTKcMTrWYsp",
        "outputId": "e6611768-6197-4558-f723-7fdfc9dfb80d"
      },
      "source": [
        "for index in new_Index:\n",
        "    df3[index]=df3[index].str.lower()\n",
        "df3.head(1)"
      ],
      "execution_count": 16,
      "outputs": [
        {
          "output_type": "execute_result",
          "data": {
            "text/html": [
              "<div>\n",
              "<style scoped>\n",
              "    .dataframe tbody tr th:only-of-type {\n",
              "        vertical-align: middle;\n",
              "    }\n",
              "\n",
              "    .dataframe tbody tr th {\n",
              "        vertical-align: top;\n",
              "    }\n",
              "\n",
              "    .dataframe thead th {\n",
              "        text-align: right;\n",
              "    }\n",
              "</style>\n",
              "<table border=\"1\" class=\"dataframe\">\n",
              "  <thead>\n",
              "    <tr style=\"text-align: right;\">\n",
              "      <th></th>\n",
              "      <th>product_name</th>\n",
              "      <th>product_category_tree</th>\n",
              "      <th>description</th>\n",
              "      <th>brand</th>\n",
              "      <th>product_specifications</th>\n",
              "    </tr>\n",
              "  </thead>\n",
              "  <tbody>\n",
              "    <tr>\n",
              "      <th>0</th>\n",
              "      <td>alisha solid women's cycling shorts</td>\n",
              "      <td>[\"clothing &gt;&gt; women's clothing &gt;&gt; lingerie, sl...</td>\n",
              "      <td>key features of alisha solid women's cycling s...</td>\n",
              "      <td>alisha</td>\n",
              "      <td>{\"product_specification\"=&gt;[{\"key\"=&gt;\"number of ...</td>\n",
              "    </tr>\n",
              "  </tbody>\n",
              "</table>\n",
              "</div>"
            ],
            "text/plain": [
              "                          product_name  ...                             product_specifications\n",
              "0  alisha solid women's cycling shorts  ...  {\"product_specification\"=>[{\"key\"=>\"number of ...\n",
              "\n",
              "[1 rows x 5 columns]"
            ]
          },
          "metadata": {
            "tags": []
          },
          "execution_count": 16
        }
      ]
    },
    {
      "cell_type": "markdown",
      "metadata": {
        "id": "WicyEAC3EEQ2"
      },
      "source": [
        "Checking for null values in the dataframe df3"
      ]
    },
    {
      "cell_type": "code",
      "metadata": {
        "colab": {
          "base_uri": "https://localhost:8080/"
        },
        "id": "6Ia50EUMI2W4",
        "outputId": "6af77359-de6d-428b-a2b9-b4fdd643a427"
      },
      "source": [
        "df3.isnull().sum().sort_values(ascending = False)"
      ],
      "execution_count": 17,
      "outputs": [
        {
          "output_type": "execute_result",
          "data": {
            "text/plain": [
              "brand                     5864\n",
              "product_specifications       0\n",
              "description                  0\n",
              "product_category_tree        0\n",
              "product_name                 0\n",
              "dtype: int64"
            ]
          },
          "metadata": {
            "tags": []
          },
          "execution_count": 17
        }
      ]
    },
    {
      "cell_type": "code",
      "metadata": {
        "id": "zcCPjJVDHFn8"
      },
      "source": [
        "df3.replace('[^a-zA-Z]', ' ', inplace= True)\n",
        "#in the columns of data we are keeping only a-z and A-Z and inplace of punctutation or other things we are replacing it with space and \n",
        "#we are using inpplace = true to update the data"
      ],
      "execution_count": 18,
      "outputs": []
    },
    {
      "cell_type": "code",
      "metadata": {
        "colab": {
          "base_uri": "https://localhost:8080/",
          "height": 182
        },
        "id": "p_MSlyf4_U7E",
        "outputId": "d97dc4db-c5ad-426c-c7a4-0054fa6f4e0d"
      },
      "source": [
        "categoricals = df3.select_dtypes(exclude=[np.number])\n",
        "categoricals.describe()"
      ],
      "execution_count": 19,
      "outputs": [
        {
          "output_type": "execute_result",
          "data": {
            "text/html": [
              "<div>\n",
              "<style scoped>\n",
              "    .dataframe tbody tr th:only-of-type {\n",
              "        vertical-align: middle;\n",
              "    }\n",
              "\n",
              "    .dataframe tbody tr th {\n",
              "        vertical-align: top;\n",
              "    }\n",
              "\n",
              "    .dataframe thead th {\n",
              "        text-align: right;\n",
              "    }\n",
              "</style>\n",
              "<table border=\"1\" class=\"dataframe\">\n",
              "  <thead>\n",
              "    <tr style=\"text-align: right;\">\n",
              "      <th></th>\n",
              "      <th>product_name</th>\n",
              "      <th>product_category_tree</th>\n",
              "      <th>description</th>\n",
              "      <th>brand</th>\n",
              "      <th>product_specifications</th>\n",
              "    </tr>\n",
              "  </thead>\n",
              "  <tbody>\n",
              "    <tr>\n",
              "      <th>count</th>\n",
              "      <td>20000</td>\n",
              "      <td>20000</td>\n",
              "      <td>20000</td>\n",
              "      <td>14136</td>\n",
              "      <td>20000</td>\n",
              "    </tr>\n",
              "    <tr>\n",
              "      <th>unique</th>\n",
              "      <td>12623</td>\n",
              "      <td>6406</td>\n",
              "      <td>17507</td>\n",
              "      <td>3369</td>\n",
              "      <td>18813</td>\n",
              "    </tr>\n",
              "    <tr>\n",
              "      <th>top</th>\n",
              "      <td>thelostpuppy back cover for apple ipad air</td>\n",
              "      <td>[\"jewellery &gt;&gt; necklaces &amp; chains &gt;&gt; necklaces\"]</td>\n",
              "      <td>thelostpuppy back cover for apple ipad air (mu...</td>\n",
              "      <td>allure auto</td>\n",
              "      <td>{\"product_specification\"=&gt;[{\"key\"=&gt;\"type\", \"va...</td>\n",
              "    </tr>\n",
              "    <tr>\n",
              "      <th>freq</th>\n",
              "      <td>141</td>\n",
              "      <td>1567</td>\n",
              "      <td>139</td>\n",
              "      <td>469</td>\n",
              "      <td>71</td>\n",
              "    </tr>\n",
              "  </tbody>\n",
              "</table>\n",
              "</div>"
            ],
            "text/plain": [
              "                                      product_name  ...                             product_specifications\n",
              "count                                        20000  ...                                              20000\n",
              "unique                                       12623  ...                                              18813\n",
              "top     thelostpuppy back cover for apple ipad air  ...  {\"product_specification\"=>[{\"key\"=>\"type\", \"va...\n",
              "freq                                           141  ...                                                 71\n",
              "\n",
              "[4 rows x 5 columns]"
            ]
          },
          "metadata": {
            "tags": []
          },
          "execution_count": 19
        }
      ]
    },
    {
      "cell_type": "markdown",
      "metadata": {
        "id": "7Jmorp8wENbo"
      },
      "source": [
        "value_counts is used to get the count of each value present under a column"
      ]
    },
    {
      "cell_type": "code",
      "metadata": {
        "colab": {
          "base_uri": "https://localhost:8080/"
        },
        "id": "vKACcrtpHRmA",
        "outputId": "e48c0736-e3c1-453a-98bf-00c4ba6108b7"
      },
      "source": [
        "df3.value_counts(df3.brand)"
      ],
      "execution_count": 20,
      "outputs": [
        {
          "output_type": "execute_result",
          "data": {
            "text/plain": [
              "brand\n",
              "allure auto      469\n",
              "regular          314\n",
              "voylla           299\n",
              "slim             288\n",
              "thelostpuppy     250\n",
              "                ... \n",
              "inkt               1\n",
              "innovative         1\n",
              "saffron craft      1\n",
              "safeanbtouch       1\n",
              " tarkan            1\n",
              "Length: 3369, dtype: int64"
            ]
          },
          "metadata": {
            "tags": []
          },
          "execution_count": 20
        }
      ]
    },
    {
      "cell_type": "code",
      "metadata": {
        "id": "Wut2a6prhaEl"
      },
      "source": [
        "#Independent Variable\n",
        "X= df3.drop(['product_category_tree'], axis = 1)"
      ],
      "execution_count": 21,
      "outputs": []
    },
    {
      "cell_type": "markdown",
      "metadata": {
        "id": "K_IK5NMyEb8I"
      },
      "source": [
        "Shape of the independent variable"
      ]
    },
    {
      "cell_type": "code",
      "metadata": {
        "colab": {
          "base_uri": "https://localhost:8080/"
        },
        "id": "aHn3jRNQSHUG",
        "outputId": "73e3b8f2-2eb0-41f2-8336-6125848951a7"
      },
      "source": [
        "X.shape"
      ],
      "execution_count": 22,
      "outputs": [
        {
          "output_type": "execute_result",
          "data": {
            "text/plain": [
              "(20000, 4)"
            ]
          },
          "metadata": {
            "tags": []
          },
          "execution_count": 22
        }
      ]
    },
    {
      "cell_type": "code",
      "metadata": {
        "id": "IChlUcLx_clm"
      },
      "source": [
        "#dependent variable\n",
        "\n",
        "y = df3[['product_category_tree']]"
      ],
      "execution_count": 23,
      "outputs": []
    },
    {
      "cell_type": "code",
      "metadata": {
        "colab": {
          "base_uri": "https://localhost:8080/",
          "height": 106
        },
        "id": "qV3AoOZQStqL",
        "outputId": "712af2dd-c408-440b-fee6-06e2a5a4f82b"
      },
      "source": [
        "y.head(2)"
      ],
      "execution_count": 24,
      "outputs": [
        {
          "output_type": "execute_result",
          "data": {
            "text/html": [
              "<div>\n",
              "<style scoped>\n",
              "    .dataframe tbody tr th:only-of-type {\n",
              "        vertical-align: middle;\n",
              "    }\n",
              "\n",
              "    .dataframe tbody tr th {\n",
              "        vertical-align: top;\n",
              "    }\n",
              "\n",
              "    .dataframe thead th {\n",
              "        text-align: right;\n",
              "    }\n",
              "</style>\n",
              "<table border=\"1\" class=\"dataframe\">\n",
              "  <thead>\n",
              "    <tr style=\"text-align: right;\">\n",
              "      <th></th>\n",
              "      <th>product_category_tree</th>\n",
              "    </tr>\n",
              "  </thead>\n",
              "  <tbody>\n",
              "    <tr>\n",
              "      <th>0</th>\n",
              "      <td>[\"clothing &gt;&gt; women's clothing &gt;&gt; lingerie, sl...</td>\n",
              "    </tr>\n",
              "    <tr>\n",
              "      <th>1</th>\n",
              "      <td>[\"furniture &gt;&gt; living room furniture &gt;&gt; sofa b...</td>\n",
              "    </tr>\n",
              "  </tbody>\n",
              "</table>\n",
              "</div>"
            ],
            "text/plain": [
              "                               product_category_tree\n",
              "0  [\"clothing >> women's clothing >> lingerie, sl...\n",
              "1  [\"furniture >> living room furniture >> sofa b..."
            ]
          },
          "metadata": {
            "tags": []
          },
          "execution_count": 24
        }
      ]
    },
    {
      "cell_type": "code",
      "metadata": {
        "colab": {
          "base_uri": "https://localhost:8080/"
        },
        "id": "Dr1uEt6ESOLw",
        "outputId": "98562f1d-0b0d-4f0f-d058-5e4b3c7f8aaa"
      },
      "source": [
        "y.shape"
      ],
      "execution_count": 25,
      "outputs": [
        {
          "output_type": "execute_result",
          "data": {
            "text/plain": [
              "(20000, 1)"
            ]
          },
          "metadata": {
            "tags": []
          },
          "execution_count": 25
        }
      ]
    },
    {
      "cell_type": "markdown",
      "metadata": {
        "id": "5h5ZUzZkF4oK"
      },
      "source": [
        "Instead of get_dummies() I tried to implement Tfidf and BOW but it was changing the dimension of X_c and hence while implementing train_test_split it was giving an error saying \"Found input variables with inconsistent numbersof samples: [4, 20000]"
      ]
    },
    {
      "cell_type": "markdown",
      "metadata": {
        "id": "zIWxKqn7Foh6"
      },
      "source": [
        "get_dummies() is used for data manipulation. It converts categorical data into dummy or indicator variables.\n",
        "\n",
        "Using this to convert categorical data into vector form as machine learning algortihms understand numbers and not language"
      ]
    },
    {
      "cell_type": "code",
      "metadata": {
        "id": "bFEIgMHL_iaB"
      },
      "source": [
        "X_c = pd.get_dummies(X)"
      ],
      "execution_count": 26,
      "outputs": []
    },
    {
      "cell_type": "code",
      "metadata": {
        "colab": {
          "base_uri": "https://localhost:8080/"
        },
        "id": "v-8sqbFyXbaL",
        "outputId": "8eb53c79-0853-41ee-c266-6d06301c1f3d"
      },
      "source": [
        "print(X_c)"
      ],
      "execution_count": 27,
      "outputs": [
        {
          "output_type": "stream",
          "text": [
            "       product_name_109f checkered women's regular skirt  ...  product_specifications_{\"product_specification\"=>{\"key\"=>\"style code\", \"value\"=>\"8024yl04\"}}\n",
            "0                                                      0  ...                                                  0                                           \n",
            "1                                                      0  ...                                                  0                                           \n",
            "2                                                      0  ...                                                  0                                           \n",
            "3                                                      0  ...                                                  0                                           \n",
            "4                                                      0  ...                                                  0                                           \n",
            "...                                                  ...  ...                                                ...                                           \n",
            "19995                                                  0  ...                                                  0                                           \n",
            "19996                                                  0  ...                                                  0                                           \n",
            "19997                                                  0  ...                                                  0                                           \n",
            "19998                                                  0  ...                                                  0                                           \n",
            "19999                                                  0  ...                                                  0                                           \n",
            "\n",
            "[20000 rows x 52312 columns]\n"
          ],
          "name": "stdout"
        }
      ]
    },
    {
      "cell_type": "code",
      "metadata": {
        "colab": {
          "base_uri": "https://localhost:8080/"
        },
        "id": "TgEbHxFJWZbV",
        "outputId": "fe8d3f80-dd2c-42d9-94ba-4516d847e252"
      },
      "source": [
        "X_c.shape"
      ],
      "execution_count": 28,
      "outputs": [
        {
          "output_type": "execute_result",
          "data": {
            "text/plain": [
              "(20000, 52312)"
            ]
          },
          "metadata": {
            "tags": []
          },
          "execution_count": 28
        }
      ]
    },
    {
      "cell_type": "markdown",
      "metadata": {
        "id": "WE4QKhKtGikh"
      },
      "source": [
        "For training the model"
      ]
    },
    {
      "cell_type": "code",
      "metadata": {
        "id": "xTRS2mdl_zRd"
      },
      "source": [
        "from sklearn.model_selection import train_test_split\n"
      ],
      "execution_count": 29,
      "outputs": []
    },
    {
      "cell_type": "code",
      "metadata": {
        "id": "IKYtO785_1Gu"
      },
      "source": [
        "X_train, X_test, y_train, y_test = train_test_split(X_c, y)\n"
      ],
      "execution_count": 30,
      "outputs": []
    },
    {
      "cell_type": "code",
      "metadata": {
        "id": "dOh4ql8Z_5RU"
      },
      "source": [
        "\n",
        "df3['description'].replace('', np.nan, inplace=True)\n"
      ],
      "execution_count": 31,
      "outputs": []
    },
    {
      "cell_type": "code",
      "metadata": {
        "id": "qy25KHrQ_8Bm"
      },
      "source": [
        "df3.dropna(subset=['description'], inplace=True)\n"
      ],
      "execution_count": 32,
      "outputs": []
    },
    {
      "cell_type": "markdown",
      "metadata": {
        "id": "uUUEQ-GyGxzt"
      },
      "source": [
        "Using RandomForestClassifier as product categorization is a classification problem "
      ]
    },
    {
      "cell_type": "markdown",
      "metadata": {
        "id": "UXGEohFjLVqI"
      },
      "source": [
        "Random forest classifier will handle the missing values and maintain the accuracy of a large proportion of data.\n"
      ]
    },
    {
      "cell_type": "code",
      "metadata": {
        "colab": {
          "base_uri": "https://localhost:8080/"
        },
        "id": "tUVXxPR2ACcC",
        "outputId": "1d63a40e-18c2-4952-95be-b0ac626b59ca"
      },
      "source": [
        "from sklearn.ensemble import RandomForestClassifier\n",
        "RF_clf = RandomForestClassifier(n_estimators=10)\n",
        "\n",
        "ml = RF_clf.fit(X_train, y_train)"
      ],
      "execution_count": 33,
      "outputs": [
        {
          "output_type": "stream",
          "text": [
            "/usr/local/lib/python3.7/dist-packages/ipykernel_launcher.py:4: DataConversionWarning: A column-vector y was passed when a 1d array was expected. Please change the shape of y to (n_samples,), for example using ravel().\n",
            "  after removing the cwd from sys.path.\n"
          ],
          "name": "stderr"
        }
      ]
    },
    {
      "cell_type": "markdown",
      "metadata": {
        "id": "MoaY3SfcI_Ps"
      },
      "source": [
        "Accuracy score"
      ]
    },
    {
      "cell_type": "code",
      "metadata": {
        "colab": {
          "base_uri": "https://localhost:8080/"
        },
        "id": "x_65zu0RfSf3",
        "outputId": "df531352-97aa-4011-fcf8-6e4fe776fecf"
      },
      "source": [
        "accuracy_score = ml.score(X_test, y_test)"
      ],
      "execution_count": 34,
      "outputs": [
        {
          "output_type": "execute_result",
          "data": {
            "text/plain": [
              "0.5076"
            ]
          },
          "metadata": {
            "tags": []
          },
          "execution_count": 34
        }
      ]
    },
    {
      "cell_type": "code",
      "metadata": {
        "id": "AcdInx5Kksw2",
        "colab": {
          "base_uri": "https://localhost:8080/",
          "height": 402
        },
        "outputId": "eb46866c-4643-4b00-88e7-4f989554fe49"
      },
      "source": [
        "y_test"
      ],
      "execution_count": 35,
      "outputs": [
        {
          "output_type": "execute_result",
          "data": {
            "text/html": [
              "<div>\n",
              "<style scoped>\n",
              "    .dataframe tbody tr th:only-of-type {\n",
              "        vertical-align: middle;\n",
              "    }\n",
              "\n",
              "    .dataframe tbody tr th {\n",
              "        vertical-align: top;\n",
              "    }\n",
              "\n",
              "    .dataframe thead th {\n",
              "        text-align: right;\n",
              "    }\n",
              "</style>\n",
              "<table border=\"1\" class=\"dataframe\">\n",
              "  <thead>\n",
              "    <tr style=\"text-align: right;\">\n",
              "      <th></th>\n",
              "      <th>product_category_tree</th>\n",
              "    </tr>\n",
              "  </thead>\n",
              "  <tbody>\n",
              "    <tr>\n",
              "      <th>18404</th>\n",
              "      <td>[\"home entertainment &gt;&gt; video players &amp; access...</td>\n",
              "    </tr>\n",
              "    <tr>\n",
              "      <th>7400</th>\n",
              "      <td>[\"toys &amp; school supplies &gt;&gt; school supplies &gt;&gt;...</td>\n",
              "    </tr>\n",
              "    <tr>\n",
              "      <th>14897</th>\n",
              "      <td>[\"footwear &gt;&gt; women's footwear &gt;&gt; wedges\"]</td>\n",
              "    </tr>\n",
              "    <tr>\n",
              "      <th>5051</th>\n",
              "      <td>[\"jewellery &gt;&gt; necklaces &amp; chains &gt;&gt; necklaces\"]</td>\n",
              "    </tr>\n",
              "    <tr>\n",
              "      <th>12668</th>\n",
              "      <td>[\"jewellery &gt;&gt; bangles, bracelets &amp; armlets &gt;&gt;...</td>\n",
              "    </tr>\n",
              "    <tr>\n",
              "      <th>...</th>\n",
              "      <td>...</td>\n",
              "    </tr>\n",
              "    <tr>\n",
              "      <th>10026</th>\n",
              "      <td>[\"bags, wallets &amp; belts &gt;&gt; bags &gt;&gt; hand bags &gt;...</td>\n",
              "    </tr>\n",
              "    <tr>\n",
              "      <th>19026</th>\n",
              "      <td>[\"home decor &amp; festive needs &gt;&gt; table decor &amp; ...</td>\n",
              "    </tr>\n",
              "    <tr>\n",
              "      <th>8777</th>\n",
              "      <td>[\"watches &gt;&gt; wrist watches &gt;&gt; maxima wrist wat...</td>\n",
              "    </tr>\n",
              "    <tr>\n",
              "      <th>10070</th>\n",
              "      <td>[\"clothing &gt;&gt; women's clothing &gt;&gt; western wear...</td>\n",
              "    </tr>\n",
              "    <tr>\n",
              "      <th>14708</th>\n",
              "      <td>[\"jewellery &gt;&gt; bangles, bracelets &amp; armlets &gt;&gt;...</td>\n",
              "    </tr>\n",
              "  </tbody>\n",
              "</table>\n",
              "<p>5000 rows × 1 columns</p>\n",
              "</div>"
            ],
            "text/plain": [
              "                                   product_category_tree\n",
              "18404  [\"home entertainment >> video players & access...\n",
              "7400   [\"toys & school supplies >> school supplies >>...\n",
              "14897         [\"footwear >> women's footwear >> wedges\"]\n",
              "5051    [\"jewellery >> necklaces & chains >> necklaces\"]\n",
              "12668  [\"jewellery >> bangles, bracelets & armlets >>...\n",
              "...                                                  ...\n",
              "10026  [\"bags, wallets & belts >> bags >> hand bags >...\n",
              "19026  [\"home decor & festive needs >> table decor & ...\n",
              "8777   [\"watches >> wrist watches >> maxima wrist wat...\n",
              "10070  [\"clothing >> women's clothing >> western wear...\n",
              "14708  [\"jewellery >> bangles, bracelets & armlets >>...\n",
              "\n",
              "[5000 rows x 1 columns]"
            ]
          },
          "metadata": {
            "tags": []
          },
          "execution_count": 35
        }
      ]
    },
    {
      "cell_type": "markdown",
      "metadata": {
        "id": "oc-TWR5xJCPT"
      },
      "source": [
        "Prediction"
      ]
    },
    {
      "cell_type": "markdown",
      "metadata": {
        "id": "hI5ccrzeJFfc"
      },
      "source": [
        "When we give X_test as input this is what we get as output"
      ]
    },
    {
      "cell_type": "code",
      "metadata": {
        "colab": {
          "base_uri": "https://localhost:8080/"
        },
        "id": "3pQw_uFBkTr7",
        "outputId": "2463c7af-08a2-4f94-b337-38282ea9b400"
      },
      "source": [
        "pred = ml.predict(X_test)\n",
        "print(pred)"
      ],
      "execution_count": 50,
      "outputs": [
        {
          "output_type": "stream",
          "text": [
            "['[\"footwear >> women\\'s footwear >> wedges\"]'\n",
            " '[\"footwear >> women\\'s footwear >> wedges\"]'\n",
            " '[\"footwear >> women\\'s footwear >> wedges\"]' ...\n",
            " '[\"footwear >> women\\'s footwear >> wedges\"]'\n",
            " '[\"footwear >> women\\'s footwear >> wedges\"]'\n",
            " '[\"jewellery >> bangles, bracelets & armlets >> bangles\"]']\n"
          ],
          "name": "stdout"
        }
      ]
    },
    {
      "cell_type": "markdown",
      "metadata": {
        "id": "xZUE05cPIEZH"
      },
      "source": [
        "Confusion matrix"
      ]
    },
    {
      "cell_type": "code",
      "metadata": {
        "id": "FUBkD811sUPD"
      },
      "source": [
        "from sklearn.metrics import confusion_matrix,accuracy_score"
      ],
      "execution_count": 51,
      "outputs": []
    },
    {
      "cell_type": "markdown",
      "metadata": {
        "id": "loWGFUKbK3y5"
      },
      "source": [
        "A confusion matrix is a table that is often used to describe the performance of a classification model (or \"classifier\") on a set of test data for which the true values are known"
      ]
    },
    {
      "cell_type": "code",
      "metadata": {
        "colab": {
          "base_uri": "https://localhost:8080/"
        },
        "id": "idGULZ-PBkpv",
        "outputId": "52820404-cfd3-45fd-ff90-832c9ac2f0e1"
      },
      "source": [
        "confusion_matrix(y_test, pred)"
      ],
      "execution_count": 52,
      "outputs": [
        {
          "output_type": "execute_result",
          "data": {
            "text/plain": [
              "array([[0, 0, 0, ..., 0, 0, 0],\n",
              "       [0, 0, 0, ..., 0, 0, 0],\n",
              "       [0, 0, 0, ..., 0, 0, 0],\n",
              "       ...,\n",
              "       [0, 0, 0, ..., 0, 0, 0],\n",
              "       [0, 0, 0, ..., 0, 0, 0],\n",
              "       [0, 0, 0, ..., 0, 0, 0]])"
            ]
          },
          "metadata": {
            "tags": []
          },
          "execution_count": 52
        }
      ]
    },
    {
      "cell_type": "code",
      "metadata": {
        "id": "SFmjE_2_BkkA"
      },
      "source": [
        ""
      ],
      "execution_count": null,
      "outputs": []
    }
  ]
}