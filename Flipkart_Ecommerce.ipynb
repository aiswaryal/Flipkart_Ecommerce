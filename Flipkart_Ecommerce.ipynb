{
  "nbformat": 4,
  "nbformat_minor": 0,
  "metadata": {
    "colab": {
      "name": "Flipkart-Ecommerce.ipynb",
      "provenance": []
    },
    "kernelspec": {
      "name": "python3",
      "display_name": "Python 3"
    },
    "language_info": {
      "name": "python"
    }
  },
  "cells": [
    {
      "cell_type": "code",
      "metadata": {
        "id": "eGIpUoiT-OJP"
      },
      "source": [
        "import pandas as pd\n",
        "import numpy as np"
      ],
      "execution_count": 3,
      "outputs": []
    },
    {
      "cell_type": "markdown",
      "metadata": {
        "id": "WsRaACsVrd-D"
      },
      "source": [
        "Reading csv file using pandas"
      ]
    },
    {
      "cell_type": "code",
      "metadata": {
        "colab": {
          "base_uri": "https://localhost:8080/",
          "height": 227
        },
        "id": "71XUYGKp-V0l",
        "outputId": "186c48ba-726f-4625-9e3b-3259378dcdb3"
      },
      "source": [
        "df1 = pd.read_csv('Flipkart_ecommerce.csv')\n",
        "df1.head(2)"
      ],
      "execution_count": 4,
      "outputs": [
        {
          "output_type": "execute_result",
          "data": {
            "text/html": [
              "<div>\n",
              "<style scoped>\n",
              "    .dataframe tbody tr th:only-of-type {\n",
              "        vertical-align: middle;\n",
              "    }\n",
              "\n",
              "    .dataframe tbody tr th {\n",
              "        vertical-align: top;\n",
              "    }\n",
              "\n",
              "    .dataframe thead th {\n",
              "        text-align: right;\n",
              "    }\n",
              "</style>\n",
              "<table border=\"1\" class=\"dataframe\">\n",
              "  <thead>\n",
              "    <tr style=\"text-align: right;\">\n",
              "      <th></th>\n",
              "      <th>uniq_id</th>\n",
              "      <th>crawl_timestamp</th>\n",
              "      <th>product_url</th>\n",
              "      <th>product_name</th>\n",
              "      <th>product_category_tree</th>\n",
              "      <th>pid</th>\n",
              "      <th>retail_price</th>\n",
              "      <th>discounted_price</th>\n",
              "      <th>image</th>\n",
              "      <th>is_FK_Advantage_product</th>\n",
              "      <th>description</th>\n",
              "      <th>product_rating</th>\n",
              "      <th>overall_rating</th>\n",
              "      <th>brand</th>\n",
              "      <th>product_specifications</th>\n",
              "    </tr>\n",
              "  </thead>\n",
              "  <tbody>\n",
              "    <tr>\n",
              "      <th>0</th>\n",
              "      <td>c2d766ca982eca8304150849735ffef9</td>\n",
              "      <td>2016-03-25 22:59:23 +0000</td>\n",
              "      <td>http://www.flipkart.com/alisha-solid-women-s-c...</td>\n",
              "      <td>Alisha Solid Women's Cycling Shorts</td>\n",
              "      <td>[\"Clothing &gt;&gt; Women's Clothing &gt;&gt; Lingerie, Sl...</td>\n",
              "      <td>SRTEH2FF9KEDEFGF</td>\n",
              "      <td>999.0</td>\n",
              "      <td>379.0</td>\n",
              "      <td>[\"http://img5a.flixcart.com/image/short/u/4/a/...</td>\n",
              "      <td>False</td>\n",
              "      <td>Key Features of Alisha Solid Women's Cycling S...</td>\n",
              "      <td>No rating available</td>\n",
              "      <td>No rating available</td>\n",
              "      <td>Alisha</td>\n",
              "      <td>{\"product_specification\"=&gt;[{\"key\"=&gt;\"Number of ...</td>\n",
              "    </tr>\n",
              "    <tr>\n",
              "      <th>1</th>\n",
              "      <td>7f7036a6d550aaa89d34c77bd39a5e48</td>\n",
              "      <td>2016-03-25 22:59:23 +0000</td>\n",
              "      <td>http://www.flipkart.com/fabhomedecor-fabric-do...</td>\n",
              "      <td>FabHomeDecor Fabric Double Sofa Bed</td>\n",
              "      <td>[\"Furniture &gt;&gt; Living Room Furniture &gt;&gt; Sofa B...</td>\n",
              "      <td>SBEEH3QGU7MFYJFY</td>\n",
              "      <td>32157.0</td>\n",
              "      <td>22646.0</td>\n",
              "      <td>[\"http://img6a.flixcart.com/image/sofa-bed/j/f...</td>\n",
              "      <td>False</td>\n",
              "      <td>FabHomeDecor Fabric Double Sofa Bed (Finish Co...</td>\n",
              "      <td>No rating available</td>\n",
              "      <td>No rating available</td>\n",
              "      <td>FabHomeDecor</td>\n",
              "      <td>{\"product_specification\"=&gt;[{\"key\"=&gt;\"Installati...</td>\n",
              "    </tr>\n",
              "  </tbody>\n",
              "</table>\n",
              "</div>"
            ],
            "text/plain": [
              "                            uniq_id  ...                             product_specifications\n",
              "0  c2d766ca982eca8304150849735ffef9  ...  {\"product_specification\"=>[{\"key\"=>\"Number of ...\n",
              "1  7f7036a6d550aaa89d34c77bd39a5e48  ...  {\"product_specification\"=>[{\"key\"=>\"Installati...\n",
              "\n",
              "[2 rows x 15 columns]"
            ]
          },
          "metadata": {
            "tags": []
          },
          "execution_count": 4
        }
      ]
    },
    {
      "cell_type": "code",
      "metadata": {
        "colab": {
          "base_uri": "https://localhost:8080/"
        },
        "id": "xByV7pqX-_2o",
        "outputId": "28a63aaa-cbb5-4196-8b33-0cf2ba9954f2"
      },
      "source": [
        "df1.shape"
      ],
      "execution_count": 5,
      "outputs": [
        {
          "output_type": "execute_result",
          "data": {
            "text/plain": [
              "(20000, 15)"
            ]
          },
          "metadata": {
            "tags": []
          },
          "execution_count": 5
        }
      ]
    },
    {
      "cell_type": "code",
      "metadata": {
        "colab": {
          "base_uri": "https://localhost:8080/"
        },
        "id": "gAv1txnoJUNY",
        "outputId": "274c9f39-0c55-4ac2-a93f-17a97838433f"
      },
      "source": [
        "df1['brand'].dtypes\n"
      ],
      "execution_count": 6,
      "outputs": [
        {
          "output_type": "execute_result",
          "data": {
            "text/plain": [
              "dtype('O')"
            ]
          },
          "metadata": {
            "tags": []
          },
          "execution_count": 6
        }
      ]
    },
    {
      "cell_type": "code",
      "metadata": {
        "colab": {
          "base_uri": "https://localhost:8080/"
        },
        "id": "NMlm-Ro__CRR",
        "outputId": "fb6aed4f-91e4-4adf-a75a-0a74be1d0bd1"
      },
      "source": [
        "df1.columns"
      ],
      "execution_count": 7,
      "outputs": [
        {
          "output_type": "execute_result",
          "data": {
            "text/plain": [
              "Index(['uniq_id', 'crawl_timestamp', 'product_url', 'product_name',\n",
              "       'product_category_tree', 'pid', 'retail_price', 'discounted_price',\n",
              "       'image', 'is_FK_Advantage_product', 'description', 'product_rating',\n",
              "       'overall_rating', 'brand', 'product_specifications'],\n",
              "      dtype='object')"
            ]
          },
          "metadata": {
            "tags": []
          },
          "execution_count": 7
        }
      ]
    },
    {
      "cell_type": "code",
      "metadata": {
        "colab": {
          "base_uri": "https://localhost:8080/"
        },
        "id": "ZSY15sC-_FJL",
        "outputId": "15a450b6-b515-48e5-86f1-48416d838203"
      },
      "source": [
        "df1.product_category_tree.describe()\n"
      ],
      "execution_count": 8,
      "outputs": [
        {
          "output_type": "execute_result",
          "data": {
            "text/plain": [
              "count                                                20000\n",
              "unique                                                6466\n",
              "top       [\"Jewellery >> Necklaces & Chains >> Necklaces\"]\n",
              "freq                                                  1567\n",
              "Name: product_category_tree, dtype: object"
            ]
          },
          "metadata": {
            "tags": []
          },
          "execution_count": 8
        }
      ]
    },
    {
      "cell_type": "code",
      "metadata": {
        "colab": {
          "base_uri": "https://localhost:8080/"
        },
        "id": "8bJgqcoC_Hue",
        "outputId": "64395e9f-77ab-4af9-d7ad-33accb45edbb"
      },
      "source": [
        "df1.isnull().sum().sort_values(ascending = False)"
      ],
      "execution_count": 9,
      "outputs": [
        {
          "output_type": "execute_result",
          "data": {
            "text/plain": [
              "brand                      5864\n",
              "discounted_price             78\n",
              "retail_price                 78\n",
              "product_specifications       14\n",
              "image                         3\n",
              "description                   2\n",
              "overall_rating                0\n",
              "product_rating                0\n",
              "is_FK_Advantage_product       0\n",
              "pid                           0\n",
              "product_category_tree         0\n",
              "product_name                  0\n",
              "product_url                   0\n",
              "crawl_timestamp               0\n",
              "uniq_id                       0\n",
              "dtype: int64"
            ]
          },
          "metadata": {
            "tags": []
          },
          "execution_count": 9
        }
      ]
    },
    {
      "cell_type": "code",
      "metadata": {
        "colab": {
          "base_uri": "https://localhost:8080/",
          "height": 227
        },
        "id": "bb_iVDJG_Ju7",
        "outputId": "9d83ae4c-3736-44af-c4ae-ebf92706c73e"
      },
      "source": [
        "df2 = df1.drop(['discounted_price','retail_price','overall_rating','product_rating',], axis = 'columns')\n",
        "df2.head(2)"
      ],
      "execution_count": 10,
      "outputs": [
        {
          "output_type": "execute_result",
          "data": {
            "text/html": [
              "<div>\n",
              "<style scoped>\n",
              "    .dataframe tbody tr th:only-of-type {\n",
              "        vertical-align: middle;\n",
              "    }\n",
              "\n",
              "    .dataframe tbody tr th {\n",
              "        vertical-align: top;\n",
              "    }\n",
              "\n",
              "    .dataframe thead th {\n",
              "        text-align: right;\n",
              "    }\n",
              "</style>\n",
              "<table border=\"1\" class=\"dataframe\">\n",
              "  <thead>\n",
              "    <tr style=\"text-align: right;\">\n",
              "      <th></th>\n",
              "      <th>uniq_id</th>\n",
              "      <th>crawl_timestamp</th>\n",
              "      <th>product_url</th>\n",
              "      <th>product_name</th>\n",
              "      <th>product_category_tree</th>\n",
              "      <th>pid</th>\n",
              "      <th>image</th>\n",
              "      <th>is_FK_Advantage_product</th>\n",
              "      <th>description</th>\n",
              "      <th>brand</th>\n",
              "      <th>product_specifications</th>\n",
              "    </tr>\n",
              "  </thead>\n",
              "  <tbody>\n",
              "    <tr>\n",
              "      <th>0</th>\n",
              "      <td>c2d766ca982eca8304150849735ffef9</td>\n",
              "      <td>2016-03-25 22:59:23 +0000</td>\n",
              "      <td>http://www.flipkart.com/alisha-solid-women-s-c...</td>\n",
              "      <td>Alisha Solid Women's Cycling Shorts</td>\n",
              "      <td>[\"Clothing &gt;&gt; Women's Clothing &gt;&gt; Lingerie, Sl...</td>\n",
              "      <td>SRTEH2FF9KEDEFGF</td>\n",
              "      <td>[\"http://img5a.flixcart.com/image/short/u/4/a/...</td>\n",
              "      <td>False</td>\n",
              "      <td>Key Features of Alisha Solid Women's Cycling S...</td>\n",
              "      <td>Alisha</td>\n",
              "      <td>{\"product_specification\"=&gt;[{\"key\"=&gt;\"Number of ...</td>\n",
              "    </tr>\n",
              "    <tr>\n",
              "      <th>1</th>\n",
              "      <td>7f7036a6d550aaa89d34c77bd39a5e48</td>\n",
              "      <td>2016-03-25 22:59:23 +0000</td>\n",
              "      <td>http://www.flipkart.com/fabhomedecor-fabric-do...</td>\n",
              "      <td>FabHomeDecor Fabric Double Sofa Bed</td>\n",
              "      <td>[\"Furniture &gt;&gt; Living Room Furniture &gt;&gt; Sofa B...</td>\n",
              "      <td>SBEEH3QGU7MFYJFY</td>\n",
              "      <td>[\"http://img6a.flixcart.com/image/sofa-bed/j/f...</td>\n",
              "      <td>False</td>\n",
              "      <td>FabHomeDecor Fabric Double Sofa Bed (Finish Co...</td>\n",
              "      <td>FabHomeDecor</td>\n",
              "      <td>{\"product_specification\"=&gt;[{\"key\"=&gt;\"Installati...</td>\n",
              "    </tr>\n",
              "  </tbody>\n",
              "</table>\n",
              "</div>"
            ],
            "text/plain": [
              "                            uniq_id  ...                             product_specifications\n",
              "0  c2d766ca982eca8304150849735ffef9  ...  {\"product_specification\"=>[{\"key\"=>\"Number of ...\n",
              "1  7f7036a6d550aaa89d34c77bd39a5e48  ...  {\"product_specification\"=>[{\"key\"=>\"Installati...\n",
              "\n",
              "[2 rows x 11 columns]"
            ]
          },
          "metadata": {
            "tags": []
          },
          "execution_count": 10
        }
      ]
    },
    {
      "cell_type": "code",
      "metadata": {
        "colab": {
          "base_uri": "https://localhost:8080/"
        },
        "id": "Fq8RsTKyJB-U",
        "outputId": "e72ce926-43b9-4c79-ea12-e86fb0224704"
      },
      "source": [
        "df2.isnull().sum().sort_values(ascending = False)"
      ],
      "execution_count": 11,
      "outputs": [
        {
          "output_type": "execute_result",
          "data": {
            "text/plain": [
              "brand                      5864\n",
              "product_specifications       14\n",
              "image                         3\n",
              "description                   2\n",
              "is_FK_Advantage_product       0\n",
              "pid                           0\n",
              "product_category_tree         0\n",
              "product_name                  0\n",
              "product_url                   0\n",
              "crawl_timestamp               0\n",
              "uniq_id                       0\n",
              "dtype: int64"
            ]
          },
          "metadata": {
            "tags": []
          },
          "execution_count": 11
        }
      ]
    },
    {
      "cell_type": "code",
      "metadata": {
        "colab": {
          "base_uri": "https://localhost:8080/",
          "height": 236
        },
        "id": "UoxYvVjZ_Q_l",
        "outputId": "450e46f6-fc48-407e-a947-712fc64b6b4f"
      },
      "source": [
        "categoricals = df1.select_dtypes(exclude=[np.number])\n",
        "categoricals.describe()\n",
        "#The count column indicates the count of non-null observations, while unique counts the number of unique values. top is the most commonly occurring value, with the frequency of the top value shown by freq.\n",
        "\n"
      ],
      "execution_count": 12,
      "outputs": [
        {
          "output_type": "execute_result",
          "data": {
            "text/html": [
              "<div>\n",
              "<style scoped>\n",
              "    .dataframe tbody tr th:only-of-type {\n",
              "        vertical-align: middle;\n",
              "    }\n",
              "\n",
              "    .dataframe tbody tr th {\n",
              "        vertical-align: top;\n",
              "    }\n",
              "\n",
              "    .dataframe thead th {\n",
              "        text-align: right;\n",
              "    }\n",
              "</style>\n",
              "<table border=\"1\" class=\"dataframe\">\n",
              "  <thead>\n",
              "    <tr style=\"text-align: right;\">\n",
              "      <th></th>\n",
              "      <th>uniq_id</th>\n",
              "      <th>crawl_timestamp</th>\n",
              "      <th>product_url</th>\n",
              "      <th>product_name</th>\n",
              "      <th>product_category_tree</th>\n",
              "      <th>pid</th>\n",
              "      <th>image</th>\n",
              "      <th>is_FK_Advantage_product</th>\n",
              "      <th>description</th>\n",
              "      <th>product_rating</th>\n",
              "      <th>overall_rating</th>\n",
              "      <th>brand</th>\n",
              "      <th>product_specifications</th>\n",
              "    </tr>\n",
              "  </thead>\n",
              "  <tbody>\n",
              "    <tr>\n",
              "      <th>count</th>\n",
              "      <td>20000</td>\n",
              "      <td>20000</td>\n",
              "      <td>20000</td>\n",
              "      <td>20000</td>\n",
              "      <td>20000</td>\n",
              "      <td>20000</td>\n",
              "      <td>19997</td>\n",
              "      <td>20000</td>\n",
              "      <td>19998</td>\n",
              "      <td>20000</td>\n",
              "      <td>20000</td>\n",
              "      <td>14136</td>\n",
              "      <td>19986</td>\n",
              "    </tr>\n",
              "    <tr>\n",
              "      <th>unique</th>\n",
              "      <td>20000</td>\n",
              "      <td>371</td>\n",
              "      <td>20000</td>\n",
              "      <td>12676</td>\n",
              "      <td>6466</td>\n",
              "      <td>19998</td>\n",
              "      <td>18589</td>\n",
              "      <td>2</td>\n",
              "      <td>17539</td>\n",
              "      <td>36</td>\n",
              "      <td>36</td>\n",
              "      <td>3499</td>\n",
              "      <td>18825</td>\n",
              "    </tr>\n",
              "    <tr>\n",
              "      <th>top</th>\n",
              "      <td>e137c98f528d8cdaf5bff7d56d088512</td>\n",
              "      <td>2015-12-01 12:40:44 +0000</td>\n",
              "      <td>http://www.flipkart.com/karukraft-multicolour-...</td>\n",
              "      <td>TheLostPuppy Back Cover for Apple iPad Air</td>\n",
              "      <td>[\"Jewellery &gt;&gt; Necklaces &amp; Chains &gt;&gt; Necklaces\"]</td>\n",
              "      <td>ACCEJ6TESY7AFT5W</td>\n",
              "      <td>[\"http://img6a.flixcart.com/image/car-mat/m/t/...</td>\n",
              "      <td>False</td>\n",
              "      <td>TheLostPuppy Back Cover for Apple iPad Air (Mu...</td>\n",
              "      <td>No rating available</td>\n",
              "      <td>No rating available</td>\n",
              "      <td>Allure Auto</td>\n",
              "      <td>{\"product_specification\"=&gt;[{\"key\"=&gt;\"Type\", \"va...</td>\n",
              "    </tr>\n",
              "    <tr>\n",
              "      <th>freq</th>\n",
              "      <td>1</td>\n",
              "      <td>1979</td>\n",
              "      <td>1</td>\n",
              "      <td>134</td>\n",
              "      <td>1567</td>\n",
              "      <td>2</td>\n",
              "      <td>45</td>\n",
              "      <td>19215</td>\n",
              "      <td>92</td>\n",
              "      <td>18151</td>\n",
              "      <td>18151</td>\n",
              "      <td>469</td>\n",
              "      <td>71</td>\n",
              "    </tr>\n",
              "  </tbody>\n",
              "</table>\n",
              "</div>"
            ],
            "text/plain": [
              "                                 uniq_id  ...                             product_specifications\n",
              "count                              20000  ...                                              19986\n",
              "unique                             20000  ...                                              18825\n",
              "top     e137c98f528d8cdaf5bff7d56d088512  ...  {\"product_specification\"=>[{\"key\"=>\"Type\", \"va...\n",
              "freq                                   1  ...                                                 71\n",
              "\n",
              "[4 rows x 13 columns]"
            ]
          },
          "metadata": {
            "tags": []
          },
          "execution_count": 12
        }
      ]
    },
    {
      "cell_type": "code",
      "metadata": {
        "colab": {
          "base_uri": "https://localhost:8080/"
        },
        "id": "h8XYcMVi_TDA",
        "outputId": "d2bcf23b-5c55-47b4-f501-ea7f4a3a8a08"
      },
      "source": [
        "df3 = df2.drop(['crawl_timestamp','is_FK_Advantage_product','image','product_url','pid','uniq_id'], axis = 'columns')\n",
        "\n",
        "df3.columns"
      ],
      "execution_count": 13,
      "outputs": [
        {
          "output_type": "execute_result",
          "data": {
            "text/plain": [
              "Index(['product_name', 'product_category_tree', 'description', 'brand',\n",
              "       'product_specifications'],\n",
              "      dtype='object')"
            ]
          },
          "metadata": {
            "tags": []
          },
          "execution_count": 13
        }
      ]
    },
    {
      "cell_type": "code",
      "metadata": {
        "id": "vJ_55PhXWwUa"
      },
      "source": [
        "df3['product_name'] = df3.product_name.astype(str)\n",
        "df3['product_specifications'] = df3.product_specifications.astype(str)\n",
        "df3['description'] = df3.description.astype(str)"
      ],
      "execution_count": 14,
      "outputs": []
    },
    {
      "cell_type": "markdown",
      "metadata": {
        "id": "HoqViaumWkQu"
      },
      "source": [
        "Converting to lower case"
      ]
    },
    {
      "cell_type": "code",
      "metadata": {
        "id": "nj1ZrjSRV7Lu"
      },
      "source": [
        "new_Index = ['product_name', 'product_category_tree','description','brand','product_specifications']\n"
      ],
      "execution_count": 15,
      "outputs": []
    },
    {
      "cell_type": "code",
      "metadata": {
        "id": "52ngKs8uWS3n"
      },
      "source": [
        "df3.columns= new_Index\n"
      ],
      "execution_count": 16,
      "outputs": []
    },
    {
      "cell_type": "code",
      "metadata": {
        "colab": {
          "base_uri": "https://localhost:8080/"
        },
        "id": "jmDFDGm3WY1z",
        "outputId": "eb7347b2-ffd7-4ea8-cd7f-f9fb6a06bdc9"
      },
      "source": [
        "df1.index"
      ],
      "execution_count": 17,
      "outputs": [
        {
          "output_type": "execute_result",
          "data": {
            "text/plain": [
              "RangeIndex(start=0, stop=20000, step=1)"
            ]
          },
          "metadata": {
            "tags": []
          },
          "execution_count": 17
        }
      ]
    },
    {
      "cell_type": "code",
      "metadata": {
        "colab": {
          "base_uri": "https://localhost:8080/",
          "height": 94
        },
        "id": "sNTKcMTrWYsp",
        "outputId": "af5ad0d8-2ad9-4689-8c56-49abfa35dbd4"
      },
      "source": [
        "for index in new_Index:\n",
        "    df3[index]=df3[index].str.lower()\n",
        "df3.head(1)"
      ],
      "execution_count": 18,
      "outputs": [
        {
          "output_type": "execute_result",
          "data": {
            "text/html": [
              "<div>\n",
              "<style scoped>\n",
              "    .dataframe tbody tr th:only-of-type {\n",
              "        vertical-align: middle;\n",
              "    }\n",
              "\n",
              "    .dataframe tbody tr th {\n",
              "        vertical-align: top;\n",
              "    }\n",
              "\n",
              "    .dataframe thead th {\n",
              "        text-align: right;\n",
              "    }\n",
              "</style>\n",
              "<table border=\"1\" class=\"dataframe\">\n",
              "  <thead>\n",
              "    <tr style=\"text-align: right;\">\n",
              "      <th></th>\n",
              "      <th>product_name</th>\n",
              "      <th>product_category_tree</th>\n",
              "      <th>description</th>\n",
              "      <th>brand</th>\n",
              "      <th>product_specifications</th>\n",
              "    </tr>\n",
              "  </thead>\n",
              "  <tbody>\n",
              "    <tr>\n",
              "      <th>0</th>\n",
              "      <td>alisha solid women's cycling shorts</td>\n",
              "      <td>[\"clothing &gt;&gt; women's clothing &gt;&gt; lingerie, sl...</td>\n",
              "      <td>key features of alisha solid women's cycling s...</td>\n",
              "      <td>alisha</td>\n",
              "      <td>{\"product_specification\"=&gt;[{\"key\"=&gt;\"number of ...</td>\n",
              "    </tr>\n",
              "  </tbody>\n",
              "</table>\n",
              "</div>"
            ],
            "text/plain": [
              "                          product_name  ...                             product_specifications\n",
              "0  alisha solid women's cycling shorts  ...  {\"product_specification\"=>[{\"key\"=>\"number of ...\n",
              "\n",
              "[1 rows x 5 columns]"
            ]
          },
          "metadata": {
            "tags": []
          },
          "execution_count": 18
        }
      ]
    },
    {
      "cell_type": "code",
      "metadata": {
        "colab": {
          "base_uri": "https://localhost:8080/"
        },
        "id": "6Ia50EUMI2W4",
        "outputId": "ee21d440-43e9-42ba-8b47-f72133c37aa5"
      },
      "source": [
        "df3.isnull().sum().sort_values(ascending = False)"
      ],
      "execution_count": 19,
      "outputs": [
        {
          "output_type": "execute_result",
          "data": {
            "text/plain": [
              "brand                     5864\n",
              "product_specifications       0\n",
              "description                  0\n",
              "product_category_tree        0\n",
              "product_name                 0\n",
              "dtype: int64"
            ]
          },
          "metadata": {
            "tags": []
          },
          "execution_count": 19
        }
      ]
    },
    {
      "cell_type": "code",
      "metadata": {
        "id": "zcCPjJVDHFn8"
      },
      "source": [
        "df3.replace('[^a-zA-Z]', ' ', inplace= True)\n",
        "#in the columns of data we are keeping only a-z and A-Z and inplace of punctutation or other things we are replacing it with space and \n",
        "#we are using inpplace = true to update the data"
      ],
      "execution_count": 20,
      "outputs": []
    },
    {
      "cell_type": "code",
      "metadata": {
        "colab": {
          "base_uri": "https://localhost:8080/",
          "height": 182
        },
        "id": "p_MSlyf4_U7E",
        "outputId": "0b29830a-cf09-4cb9-cef5-cc619f01f724"
      },
      "source": [
        "categoricals = df3.select_dtypes(exclude=[np.number])\n",
        "categoricals.describe()"
      ],
      "execution_count": 21,
      "outputs": [
        {
          "output_type": "execute_result",
          "data": {
            "text/html": [
              "<div>\n",
              "<style scoped>\n",
              "    .dataframe tbody tr th:only-of-type {\n",
              "        vertical-align: middle;\n",
              "    }\n",
              "\n",
              "    .dataframe tbody tr th {\n",
              "        vertical-align: top;\n",
              "    }\n",
              "\n",
              "    .dataframe thead th {\n",
              "        text-align: right;\n",
              "    }\n",
              "</style>\n",
              "<table border=\"1\" class=\"dataframe\">\n",
              "  <thead>\n",
              "    <tr style=\"text-align: right;\">\n",
              "      <th></th>\n",
              "      <th>product_name</th>\n",
              "      <th>product_category_tree</th>\n",
              "      <th>description</th>\n",
              "      <th>brand</th>\n",
              "      <th>product_specifications</th>\n",
              "    </tr>\n",
              "  </thead>\n",
              "  <tbody>\n",
              "    <tr>\n",
              "      <th>count</th>\n",
              "      <td>20000</td>\n",
              "      <td>20000</td>\n",
              "      <td>20000</td>\n",
              "      <td>14136</td>\n",
              "      <td>20000</td>\n",
              "    </tr>\n",
              "    <tr>\n",
              "      <th>unique</th>\n",
              "      <td>12623</td>\n",
              "      <td>6406</td>\n",
              "      <td>17507</td>\n",
              "      <td>3369</td>\n",
              "      <td>18813</td>\n",
              "    </tr>\n",
              "    <tr>\n",
              "      <th>top</th>\n",
              "      <td>thelostpuppy back cover for apple ipad air</td>\n",
              "      <td>[\"jewellery &gt;&gt; necklaces &amp; chains &gt;&gt; necklaces\"]</td>\n",
              "      <td>thelostpuppy back cover for apple ipad air (mu...</td>\n",
              "      <td>allure auto</td>\n",
              "      <td>{\"product_specification\"=&gt;[{\"key\"=&gt;\"type\", \"va...</td>\n",
              "    </tr>\n",
              "    <tr>\n",
              "      <th>freq</th>\n",
              "      <td>141</td>\n",
              "      <td>1567</td>\n",
              "      <td>139</td>\n",
              "      <td>469</td>\n",
              "      <td>71</td>\n",
              "    </tr>\n",
              "  </tbody>\n",
              "</table>\n",
              "</div>"
            ],
            "text/plain": [
              "                                      product_name  ...                             product_specifications\n",
              "count                                        20000  ...                                              20000\n",
              "unique                                       12623  ...                                              18813\n",
              "top     thelostpuppy back cover for apple ipad air  ...  {\"product_specification\"=>[{\"key\"=>\"type\", \"va...\n",
              "freq                                           141  ...                                                 71\n",
              "\n",
              "[4 rows x 5 columns]"
            ]
          },
          "metadata": {
            "tags": []
          },
          "execution_count": 21
        }
      ]
    },
    {
      "cell_type": "code",
      "metadata": {
        "colab": {
          "base_uri": "https://localhost:8080/"
        },
        "id": "vKACcrtpHRmA",
        "outputId": "ca122b04-8630-430b-ebe5-611e55201698"
      },
      "source": [
        "df3.value_counts(df3.brand)"
      ],
      "execution_count": 22,
      "outputs": [
        {
          "output_type": "execute_result",
          "data": {
            "text/plain": [
              "brand\n",
              "allure auto      469\n",
              "regular          314\n",
              "voylla           299\n",
              "slim             288\n",
              "thelostpuppy     250\n",
              "                ... \n",
              "inkt               1\n",
              "innovative         1\n",
              "saffron craft      1\n",
              "safeanbtouch       1\n",
              " tarkan            1\n",
              "Length: 3369, dtype: int64"
            ]
          },
          "metadata": {
            "tags": []
          },
          "execution_count": 22
        }
      ]
    },
    {
      "cell_type": "code",
      "metadata": {
        "id": "Wut2a6prhaEl"
      },
      "source": [
        "#Independent Variable\n",
        "X= df3.drop(['product_category_tree'], axis = 1)"
      ],
      "execution_count": 23,
      "outputs": []
    },
    {
      "cell_type": "code",
      "metadata": {
        "colab": {
          "base_uri": "https://localhost:8080/"
        },
        "id": "aHn3jRNQSHUG",
        "outputId": "3036acf7-5a7c-4afe-a61d-d2df514fa8b9"
      },
      "source": [
        "X.shape"
      ],
      "execution_count": 24,
      "outputs": [
        {
          "output_type": "execute_result",
          "data": {
            "text/plain": [
              "(20000, 4)"
            ]
          },
          "metadata": {
            "tags": []
          },
          "execution_count": 24
        }
      ]
    },
    {
      "cell_type": "code",
      "metadata": {
        "colab": {
          "base_uri": "https://localhost:8080/"
        },
        "id": "3ycOVXo2_Ykk",
        "outputId": "685690c9-e7a3-4551-e3cf-161b5614fbfb"
      },
      "source": [
        "df3.dtypes"
      ],
      "execution_count": 25,
      "outputs": [
        {
          "output_type": "execute_result",
          "data": {
            "text/plain": [
              "product_name              object\n",
              "product_category_tree     object\n",
              "description               object\n",
              "brand                     object\n",
              "product_specifications    object\n",
              "dtype: object"
            ]
          },
          "metadata": {
            "tags": []
          },
          "execution_count": 25
        }
      ]
    },
    {
      "cell_type": "code",
      "metadata": {
        "colab": {
          "base_uri": "https://localhost:8080/"
        },
        "id": "BNXta_jS_afq",
        "outputId": "813c44eb-4294-44b7-9cc4-839571c02a52"
      },
      "source": [
        "df3.value_counts(df3.product_category_tree).sort_values(ascending = True).tail(40)"
      ],
      "execution_count": 26,
      "outputs": [
        {
          "output_type": "execute_result",
          "data": {
            "text/plain": [
              "product_category_tree\n",
              "[\"clothing >> men's clothing >> t-shirts >> northern lights t-shirts\"]                                                  46\n",
              "[\"automotive >> accessories & spare parts >> spares & performance parts >> car spare parts >> vehicle horns\"]           47\n",
              "[\"clothing >> men's clothing >> t-shirts >> nimya t-shirts\"]                                                            50\n",
              "[\"clothing >> women's clothing >> lingerie, sleep & swimwear >> bras >> tia by ten on ten bras\"]                        51\n",
              "[\"watches >> wrist watches >> sonata wrist watches\"]                                                                    56\n",
              "[\"furniture >> living room >> sofas & sectionals\"]                                                                      59\n",
              "[\"baby care >> baby & kids gifts >> stickers >> walldesign stickers\"]                                                   65\n",
              "[\"home furnishing >> cushions, pillows & covers >> cushion covers\"]                                                     67\n",
              "[\"clothing >> women's clothing >> lingerie, sleep & swimwear >> bras >> ploomz bras\"]                                   70\n",
              "[\"home decor & festive needs >> wall decor & clocks >> wall decals & stickers >> destudio wall decals & stickers\"]      71\n",
              "[\"kitchen & dining >> coffee mugs >> rockmantra coffee mugs\"]                                                           72\n",
              "[\"watches >> wrist watches >> maxima wrist watches\"]                                                                    73\n",
              "[\"baby care >> baby & kids gifts >> stickers >> wallmantra stickers\"]                                                   75\n",
              "[\"furniture >> pet furniture\"]                                                                                          76\n",
              "[\"clothing >> men's clothing >> t-shirts >> okane t-shirts\"]                                                            82\n",
              "[\"footwear >> women's footwear >> casual shoes >> loafers\"]                                                             87\n",
              "[\"footwear >> women's footwear >> flats\"]                                                                               87\n",
              "[\"clothing >> men's clothing >> t-shirts >> oviyon t-shirts\"]                                                           87\n",
              "[\"kitchen & dining >> coffee mugs >> printland coffee mugs\"]                                                            89\n",
              "[\"home furnishing >> bath linen >> towels\"]                                                                             93\n",
              "[\"jewellery >> earrings\"]                                                                                               93\n",
              "[\"kitchen & dining >> coffee mugs >> prithish coffee mugs\"]                                                             94\n",
              "[\"footwear >> women's footwear >> heels\"]                                                                               97\n",
              "[\"clothing >> women's clothing >> lingerie, sleep & swimwear >> bras >> grafion bras\"]                                 101\n",
              "[\"mobiles & accessories >> tablet accessories >> cases & covers >> enthopia cases & covers\"]                           101\n",
              "[\"footwear >> women's footwear >> casual shoes >> boots\"]                                                              118\n",
              "[\"home furnishing >> curtains & accessories >> curtains\"]                                                              131\n",
              "[\"clothing >> men's clothing >> t-shirts >> numero uno t-shirts\"]                                                      135\n",
              "[\"mobiles & accessories >> tablet accessories >> cases & covers >> dailyobjects cases & covers\"]                       144\n",
              "[\"jewellery >> jewellery sets\"]                                                                                        161\n",
              "[\"footwear >> women's footwear >> wedges\"]                                                                             186\n",
              "[\"home furnishing >> bed linen >> blankets, quilts & dohars\"]                                                          190\n",
              "[\"clothing >> women's clothing >> lingerie, sleep & swimwear >> bras >> s4s bras\"]                                     197\n",
              "[\"mobiles & accessories >> tablet accessories >> cases & covers >> thelostpuppy cases & covers\"]                       250\n",
              "[\"jewellery >> bangles, bracelets & armlets >> bracelets\"]                                                             251\n",
              "[\"tools & hardware >> tools >> gardening tools >> plant containers & sets >> plant container sets\"]                    332\n",
              "[\"jewellery >> bangles, bracelets & armlets >> bangles\"]                                                               430\n",
              "[\"automotive >> accessories & spare parts >> car interior & exterior >> car interior >> car mats\"]                     522\n",
              "[\"jewellery >> rings\"]                                                                                                 710\n",
              "[\"jewellery >> necklaces & chains >> necklaces\"]                                                                      1567\n",
              "dtype: int64"
            ]
          },
          "metadata": {
            "tags": []
          },
          "execution_count": 26
        }
      ]
    },
    {
      "cell_type": "code",
      "metadata": {
        "id": "IChlUcLx_clm"
      },
      "source": [
        "#dependent variable\n",
        "y = df3[['product_category_tree']]"
      ],
      "execution_count": 27,
      "outputs": []
    },
    {
      "cell_type": "code",
      "metadata": {
        "colab": {
          "base_uri": "https://localhost:8080/",
          "height": 106
        },
        "id": "qV3AoOZQStqL",
        "outputId": "9c0b02ee-2c7a-4cfe-cb1f-a935224dbfe2"
      },
      "source": [
        "y.head(2)"
      ],
      "execution_count": 28,
      "outputs": [
        {
          "output_type": "execute_result",
          "data": {
            "text/html": [
              "<div>\n",
              "<style scoped>\n",
              "    .dataframe tbody tr th:only-of-type {\n",
              "        vertical-align: middle;\n",
              "    }\n",
              "\n",
              "    .dataframe tbody tr th {\n",
              "        vertical-align: top;\n",
              "    }\n",
              "\n",
              "    .dataframe thead th {\n",
              "        text-align: right;\n",
              "    }\n",
              "</style>\n",
              "<table border=\"1\" class=\"dataframe\">\n",
              "  <thead>\n",
              "    <tr style=\"text-align: right;\">\n",
              "      <th></th>\n",
              "      <th>product_category_tree</th>\n",
              "    </tr>\n",
              "  </thead>\n",
              "  <tbody>\n",
              "    <tr>\n",
              "      <th>0</th>\n",
              "      <td>[\"clothing &gt;&gt; women's clothing &gt;&gt; lingerie, sl...</td>\n",
              "    </tr>\n",
              "    <tr>\n",
              "      <th>1</th>\n",
              "      <td>[\"furniture &gt;&gt; living room furniture &gt;&gt; sofa b...</td>\n",
              "    </tr>\n",
              "  </tbody>\n",
              "</table>\n",
              "</div>"
            ],
            "text/plain": [
              "                               product_category_tree\n",
              "0  [\"clothing >> women's clothing >> lingerie, sl...\n",
              "1  [\"furniture >> living room furniture >> sofa b..."
            ]
          },
          "metadata": {
            "tags": []
          },
          "execution_count": 28
        }
      ]
    },
    {
      "cell_type": "code",
      "metadata": {
        "colab": {
          "base_uri": "https://localhost:8080/"
        },
        "id": "Dr1uEt6ESOLw",
        "outputId": "0af67970-bb6d-44a1-b57f-9f6dbd946b8c"
      },
      "source": [
        "y.shape"
      ],
      "execution_count": 29,
      "outputs": [
        {
          "output_type": "execute_result",
          "data": {
            "text/plain": [
              "(20000, 1)"
            ]
          },
          "metadata": {
            "tags": []
          },
          "execution_count": 29
        }
      ]
    },
    {
      "cell_type": "code",
      "metadata": {
        "id": "bFEIgMHL_iaB"
      },
      "source": [
        "\n",
        "X_c = pd.get_dummies(X)"
      ],
      "execution_count": 30,
      "outputs": []
    },
    {
      "cell_type": "code",
      "metadata": {
        "colab": {
          "base_uri": "https://localhost:8080/"
        },
        "id": "v-8sqbFyXbaL",
        "outputId": "3ca7a49c-7cb0-426b-fa22-440260d0762e"
      },
      "source": [
        "print(X_c)"
      ],
      "execution_count": 31,
      "outputs": [
        {
          "output_type": "stream",
          "text": [
            "       product_name_109f checkered women's regular skirt  ...  product_specifications_{\"product_specification\"=>{\"key\"=>\"style code\", \"value\"=>\"8024yl04\"}}\n",
            "0                                                      0  ...                                                  0                                           \n",
            "1                                                      0  ...                                                  0                                           \n",
            "2                                                      0  ...                                                  0                                           \n",
            "3                                                      0  ...                                                  0                                           \n",
            "4                                                      0  ...                                                  0                                           \n",
            "...                                                  ...  ...                                                ...                                           \n",
            "19995                                                  0  ...                                                  0                                           \n",
            "19996                                                  0  ...                                                  0                                           \n",
            "19997                                                  0  ...                                                  0                                           \n",
            "19998                                                  0  ...                                                  0                                           \n",
            "19999                                                  0  ...                                                  0                                           \n",
            "\n",
            "[20000 rows x 52312 columns]\n"
          ],
          "name": "stdout"
        }
      ]
    },
    {
      "cell_type": "code",
      "metadata": {
        "colab": {
          "base_uri": "https://localhost:8080/"
        },
        "id": "TgEbHxFJWZbV",
        "outputId": "25e021ad-5198-4838-def8-344b54d4d4e1"
      },
      "source": [
        "X_c.shape"
      ],
      "execution_count": 32,
      "outputs": [
        {
          "output_type": "execute_result",
          "data": {
            "text/plain": [
              "(20000, 52312)"
            ]
          },
          "metadata": {
            "tags": []
          },
          "execution_count": 32
        }
      ]
    },
    {
      "cell_type": "code",
      "metadata": {
        "id": "xTRS2mdl_zRd"
      },
      "source": [
        "from sklearn.model_selection import train_test_split\n"
      ],
      "execution_count": 33,
      "outputs": []
    },
    {
      "cell_type": "code",
      "metadata": {
        "id": "IKYtO785_1Gu"
      },
      "source": [
        "X_train, X_test, y_train, y_test = train_test_split(X_c, y)\n"
      ],
      "execution_count": 34,
      "outputs": []
    },
    {
      "cell_type": "code",
      "metadata": {
        "colab": {
          "base_uri": "https://localhost:8080/"
        },
        "id": "9leH5Ax__23v",
        "outputId": "8d0be3d6-45a5-42ee-9e29-f7c14a58b426"
      },
      "source": [
        "pd.value_counts(df3.description)"
      ],
      "execution_count": 35,
      "outputs": [
        {
          "output_type": "execute_result",
          "data": {
            "text/plain": [
              "thelostpuppy back cover for apple ipad air (multicolor)\\n                         price: rs. 599\\n\\t\\t\\t\\t\\n\\t\\t\\tdesigned to protect and impress. the lost puppy brings you robust mobile covers in all sizes. with the special anti-slip technology this protects your phone in more ways than one. the matte finish and superior quality add elegance, class and sturdiness to the covers.\\ndesigned to protect and impress. the lost puppy brings you robust mobile covers in all sizes. with the special anti-slip technology this protects your phone in more ways than one. the matte finish and superior quality add elegance, class and sturdiness to the covers.                                                                                                                                                                                                                                                                                                                                                                                                                                                                                                                                                                                                                                                                                                                                                                                                                                                                                                                                                                                                                                                                                                                                                                                                                                                                                                                                                                                                                                                                                                                                                                                                                                          139\n",
              "thelostpuppy back cover for apple ipad air 2 (multicolor)\\n                         price: rs. 599\\n\\t\\t\\t\\t\\n\\t\\t\\tdesigned to protect and impress. the lost puppy brings you robust mobile covers in all sizes. with the special anti-slip technology this protects your phone in more ways than one. the matte finish and superior quality add elegance, class and sturdiness to the covers.\\ndesigned to protect and impress. the lost puppy brings you robust mobile covers in all sizes. with the special anti-slip technology this protects your phone in more ways than one. the matte finish and superior quality add elegance, class and sturdiness to the covers.                                                                                                                                                                                                                                                                                                                                                                                                                                                                                                                                                                                                                                                                                                                                                                                                                                                                                                                                                                                                                                                                                                                                                                                                                                                                                                                                                                                                                                                                                                                                                                                                                                         95\n",
              "buy homeehub polyester multicolor self design eyelet door curtain at rs. 1332 at flipkart.com. only genuine products. free shipping. cash on delivery!                                                                                                                                                                                                                                                                                                                                                                                                                                                                                                                                                                                                                                                                                                                                                                                                                                                                                                                                                                                                                                                                                                                                                                                                                                                                                                                                                                                                                                                                                                                                                                                                                                                                                                                                                                                                                                                                                                                                                                                                                                                                                                                                                               58\n",
              "theskinmantra sleeve for all versions of apple ipad (multicolor)\\n                         price: rs. 549\\n\\t\\t\\t\\t\\n\\t\\t\\tthe hot new ipad sleeves from the house of theskinmantra are here. these are waterproof and fadeproof sleeves for all ipad versions (ipad 1, 2, 3, 4, ipad air 1, ipad air 2, ipad air 3) . the cushioned apple ipad sleeves are also compatible with all 9/10 inch tablets such as nexus 9, asus fonepad . these are made of hydra-flex material which means that they are water proof, and the designs on them are fadeproof for life. made from 4.2 mm thick cushioned material, these come with a high quality textured chain. these apple ipad sleeves offer ultimate utility and style. carry your gadget in one of these sleeves. second look guaranteed!\\nthe hot new ipad sleeves from the house of theskinmantra are here. these are waterproof and fadeproof sleeves for all ipad versions (ipad 1, 2, 3, 4, ipad air 1, ipad air 2, ipad air 3) . the cushioned apple ipad sleeves are also compatible with all 9/10 inch tablets such as nexus 9, asus fonepad . these are made of hydra-flex material which means that they are water proof, and the designs on them are fadeproof for life. made from 4.2 mm thick cushioned material, these come with a high quality textured chain. these apple ipad sleeves offer ultimate utility and style. carry your gadget in one of these sleeves. second look guaranteed!                                                                                                                                                                                                                                                                                                                                                                                                                                                                                                                                                                                                                                                                                                                                                                                                                                                        43\n",
              "fashion jewellery alloy necklace - buy fashion jewellery alloy necklace only for rs. 239 from flipkart.com. only genuine products. 30 day replacement guarantee. free shipping. cash on delivery!                                                                                                                                                                                                                                                                                                                                                                                                                                                                                                                                                                                                                                                                                                                                                                                                                                                                                                                                                                                                                                                                                                                                                                                                                                                                                                                                                                                                                                                                                                                                                                                                                                                                                                                                                                                                                                                                                                                                                                                                                                                                                                                    38\n",
              "                                                                                                                                                                                                                                                                                                                                                                                                                                                                                                                                                                                                                                                                                                                                                                                                                                                                                                                                                                                                                                                                                                                                                                                                                                                                                                                                                                                                                                                                                                                                                                                                                                                                                                                                                                                                                                                                                                                                                                                                                                                                                                                                                                                                                                                                                                                   ... \n",
              "pearl paradise hydro rhodium quartz silver dangle earring - buy pearl paradise hydro rhodium quartz silver dangle earring only for rs. 780 from flipkart.com. only genuine products. 30 day replacement guarantee. free shipping. cash on delivery!                                                                                                                                                                                                                                                                                                                                                                                                                                                                                                                                                                                                                                                                                                                                                                                                                                                                                                                                                                                                                                                                                                                                                                                                                                                                                                                                                                                                                                                                                                                                                                                                                                                                                                                                                                                                                                                                                                                                                                                                                                                                   1\n",
              "clovia women's tube bra\\n                         price: rs. 299\\n\\t\\t\\t\\t\\n\\t\\t\\tthis lace tube bra is a must-have in every girl's wardrobe. it is a perfect solution for off-shoulder or low neck tops and dresses. team it with a tee or vest with deep cut arm holes and make a style statement of your own. this lace fabric has beautiful intricate patterns in rich colour. it is treated to be soft on skin and to fit snugly around you. it is a completely stretchable tube top bra that is comfortable and sexy, made from highly specialised knitting technology it is designed to take the shape of bust and provide optimum support at the same time.\\nthis lace tube bra is a must-have in every girl's wardrobe. it is a perfect solution for off-shoulder or low neck tops and dresses. team it with a tee or vest with deep cut arm holes and make a style statement of your own. this lace fabric has beautiful intricate patterns in rich colour. it is treated to be soft on skin and to fit snugly around you. it is a completely stretchable tube top bra that is comfortable and sexy, made from highly specialised knitting technology it is designed to take the shape of bust and provide optimum support at the same time.                                                                                                                                                                                                                                                                                                                                                                                                                                                                                                                                                                                                                                                                                                                                                                                                                                                                                                                                                                                                                                                                1\n",
              "key features of polkakart embroidered kurti & leggings floral embroidery work kurti,polkakart embroidered kurti & leggings price: rs. 549 leave everyone mesmerized with the appeal of this designer sanganeri kurti. the beauty of the outfit is u-shape neck with mirror's work design and the orange piping on the white lace front gives pretty look to it. kurti is denim printed all over with abstract print. the sleeves are fully covered abstract pattern and enhanced with beautiful lace work design. the kurti bottom boundries is coverd with the beautiful orange and white lace. this beautiful kurti wear with leggings or jeans to gorgeous look. product usage: the kurti can be worn with your favorite pair of jeans, pant, leggings, salwaar or churidaars. it is versatile for any season and is comfy for any occasion. specifications: product dimensions: kurti: bust size: 38 inches, waist size: 40 inches, length: 44 inches sleeves: 3/4th gender: for her item type: kurti color: black material: cambric cotton specialty: denim printed design kurti fabric gsm: 75 sleeves: 3/4th weight: 155gm fabric thread count: 120 wash care: get the product drycleaned for the first time to maintain the vibrancy of the fabric. thereafter, regular machine or hand wash in normal or luke warm water. disclaimer: you will receive the exact design and material as shown. however, the color tone of the product may vary slightly from that shown due to variation in image display settings. return policy: no questions asked 7 days return/ replacement, if you are not satisfied with the product. brand: polkakart,specifications of polkakart embroidered kurti & leggings salwar kurta dupatta details sleeve 3/4th sleeve kurta type anarkali type kurti & leggings neck round neck kurta fabric cambric cotton general details pattern embroidered ideal for girl's, women's occasion casual fabric care get the product drycleaned for the first time to maintain the vibrancy of the fabric. thereafter, regular machine or hand wash in normal or luke warm water. additional details the kurti can be worn with your favorite pair of jeans, pant, leggings, salwaar or churidaars. it is versatile for any season and is comfy for any occasion. in the box 1 kurti      1\n",
              "specifications of boreal plastic rectangular hair brush 633d brush traits brush type flat brush brush set content small brush bristle type nylon bristles round tip bristle yes handle type plastic handle brush application grooming, curling, detangling ideal for boysiigirls brush size small brush set no suitable hair type medium to long hair, wet hair in the box hair brush additional traits reduces snags and tangles                                                                                                                                                                                                                                                                                                                                                                                                                                                                                                                                                                                                                                                                                                                                                                                                                                                                                                                                                                                                                                                                                                                                                                                                                                                                                                                                                                                                                                                                                                                                                                                                                                                                                                                                                                                                                                                                                     1\n",
              "numero uno solid men's round neck t-shirt\\n                         price: rs. 678\\n\\t\\t\\t\\t\\n\\t\\t\\tthis tee is a classic wardrobe staple!\\nthis cotton melange tee has a branded metallic embellishment \\non the chest with ribbed neckline and sleeve hems.\\n\\nwear it with white linen shorts and leather sandals for a cool and refreshing look.\\nthis tee is a classic wardrobe staple!\\nthis cotton melange tee has a branded metallic embellishment \\non the chest with ribbed neckline and sleeve hems.\\n\\nwear it with white linen shorts and leather sandals for a cool and refreshing look.                                                                                                                                                                                                                                                                                                                                                                                                                                                                                                                                                                                                                                                                                                                                                                                                                                                                                                                                                                                                                                                                                                                                                                                                                                                                                                                                                                                                                                                                                                                                                                                                                                                                                                                1\n",
              "Name: description, Length: 17507, dtype: int64"
            ]
          },
          "metadata": {
            "tags": []
          },
          "execution_count": 35
        }
      ]
    },
    {
      "cell_type": "code",
      "metadata": {
        "id": "dOh4ql8Z_5RU"
      },
      "source": [
        "\n",
        "df3['description'].replace('', np.nan, inplace=True)\n"
      ],
      "execution_count": 36,
      "outputs": []
    },
    {
      "cell_type": "code",
      "metadata": {
        "id": "qy25KHrQ_8Bm"
      },
      "source": [
        "df3.dropna(subset=['description'], inplace=True)\n"
      ],
      "execution_count": 37,
      "outputs": []
    },
    {
      "cell_type": "code",
      "metadata": {
        "id": "hlV-Vctu_-sY",
        "colab": {
          "base_uri": "https://localhost:8080/"
        },
        "outputId": "99a33d6a-7e90-44f9-d8aa-6014301fe0f5"
      },
      "source": [
        "df3.isnull().sum().sort_values(ascending = False)"
      ],
      "execution_count": 38,
      "outputs": [
        {
          "output_type": "execute_result",
          "data": {
            "text/plain": [
              "brand                     5864\n",
              "product_specifications       0\n",
              "description                  0\n",
              "product_category_tree        0\n",
              "product_name                 0\n",
              "dtype: int64"
            ]
          },
          "metadata": {
            "tags": []
          },
          "execution_count": 38
        }
      ]
    },
    {
      "cell_type": "code",
      "metadata": {
        "colab": {
          "base_uri": "https://localhost:8080/"
        },
        "id": "BuimMDTxAASb",
        "outputId": "95379a94-08c8-4381-e5e5-506e300b6919"
      },
      "source": [
        "df3.dtypes"
      ],
      "execution_count": 39,
      "outputs": [
        {
          "output_type": "execute_result",
          "data": {
            "text/plain": [
              "product_name              object\n",
              "product_category_tree     object\n",
              "description               object\n",
              "brand                     object\n",
              "product_specifications    object\n",
              "dtype: object"
            ]
          },
          "metadata": {
            "tags": []
          },
          "execution_count": 39
        }
      ]
    },
    {
      "cell_type": "code",
      "metadata": {
        "colab": {
          "base_uri": "https://localhost:8080/"
        },
        "id": "tUVXxPR2ACcC",
        "outputId": "da7e0aeb-f777-47c1-bb08-b19e02d379e3"
      },
      "source": [
        "from sklearn.ensemble import RandomForestClassifier\n",
        "RF_clf = RandomForestClassifier(n_estimators=10)\n",
        "\n",
        "ml = RF_clf.fit(X_train, y_train)"
      ],
      "execution_count": 40,
      "outputs": [
        {
          "output_type": "stream",
          "text": [
            "/usr/local/lib/python3.7/dist-packages/ipykernel_launcher.py:4: DataConversionWarning: A column-vector y was passed when a 1d array was expected. Please change the shape of y to (n_samples,), for example using ravel().\n",
            "  after removing the cwd from sys.path.\n"
          ],
          "name": "stderr"
        }
      ]
    },
    {
      "cell_type": "code",
      "metadata": {
        "colab": {
          "base_uri": "https://localhost:8080/"
        },
        "id": "x_65zu0RfSf3",
        "outputId": "9412ef96-e8db-456b-f484-b7a843581c1a"
      },
      "source": [
        "ml.score(X_test, y_test)"
      ],
      "execution_count": 41,
      "outputs": [
        {
          "output_type": "execute_result",
          "data": {
            "text/plain": [
              "0.5222"
            ]
          },
          "metadata": {
            "tags": []
          },
          "execution_count": 41
        }
      ]
    },
    {
      "cell_type": "code",
      "metadata": {
        "id": "AcdInx5Kksw2",
        "colab": {
          "base_uri": "https://localhost:8080/",
          "height": 402
        },
        "outputId": "d61ddc1c-3776-4f67-f719-fc1d2df2f35f"
      },
      "source": [
        "y_test"
      ],
      "execution_count": 42,
      "outputs": [
        {
          "output_type": "execute_result",
          "data": {
            "text/html": [
              "<div>\n",
              "<style scoped>\n",
              "    .dataframe tbody tr th:only-of-type {\n",
              "        vertical-align: middle;\n",
              "    }\n",
              "\n",
              "    .dataframe tbody tr th {\n",
              "        vertical-align: top;\n",
              "    }\n",
              "\n",
              "    .dataframe thead th {\n",
              "        text-align: right;\n",
              "    }\n",
              "</style>\n",
              "<table border=\"1\" class=\"dataframe\">\n",
              "  <thead>\n",
              "    <tr style=\"text-align: right;\">\n",
              "      <th></th>\n",
              "      <th>product_category_tree</th>\n",
              "    </tr>\n",
              "  </thead>\n",
              "  <tbody>\n",
              "    <tr>\n",
              "      <th>13959</th>\n",
              "      <td>[\"clothing &gt;&gt; men's clothing &gt;&gt; t-shirts &gt;&gt; nu...</td>\n",
              "    </tr>\n",
              "    <tr>\n",
              "      <th>1686</th>\n",
              "      <td>[\"clothing &gt;&gt; women's clothing &gt;&gt; western wear...</td>\n",
              "    </tr>\n",
              "    <tr>\n",
              "      <th>970</th>\n",
              "      <td>[\"kitchen &amp; dining &gt;&gt; coffee mugs &gt;&gt; akup coff...</td>\n",
              "    </tr>\n",
              "    <tr>\n",
              "      <th>18501</th>\n",
              "      <td>[\"kitchen &amp; dining &gt;&gt; kitchen tools &gt;&gt; kitchen...</td>\n",
              "    </tr>\n",
              "    <tr>\n",
              "      <th>715</th>\n",
              "      <td>[\"jewellery &gt;&gt; rings\"]</td>\n",
              "    </tr>\n",
              "    <tr>\n",
              "      <th>...</th>\n",
              "      <td>...</td>\n",
              "    </tr>\n",
              "    <tr>\n",
              "      <th>19815</th>\n",
              "      <td>[\"baby care &gt;&gt; baby &amp; kids gifts &gt;&gt; stickers &gt;...</td>\n",
              "    </tr>\n",
              "    <tr>\n",
              "      <th>2579</th>\n",
              "      <td>[\"clothing &gt;&gt; women's clothing &gt;&gt; lingerie, sl...</td>\n",
              "    </tr>\n",
              "    <tr>\n",
              "      <th>14715</th>\n",
              "      <td>[\"clothing &gt;&gt; women's clothing &gt;&gt; western wear...</td>\n",
              "    </tr>\n",
              "    <tr>\n",
              "      <th>5384</th>\n",
              "      <td>[\"watches &gt;&gt; wrist watches &gt;&gt; yves bertelin wr...</td>\n",
              "    </tr>\n",
              "    <tr>\n",
              "      <th>932</th>\n",
              "      <td>[\"home decor &amp; festive needs &gt;&gt; candles &amp; frag...</td>\n",
              "    </tr>\n",
              "  </tbody>\n",
              "</table>\n",
              "<p>5000 rows × 1 columns</p>\n",
              "</div>"
            ],
            "text/plain": [
              "                                   product_category_tree\n",
              "13959  [\"clothing >> men's clothing >> t-shirts >> nu...\n",
              "1686   [\"clothing >> women's clothing >> western wear...\n",
              "970    [\"kitchen & dining >> coffee mugs >> akup coff...\n",
              "18501  [\"kitchen & dining >> kitchen tools >> kitchen...\n",
              "715                               [\"jewellery >> rings\"]\n",
              "...                                                  ...\n",
              "19815  [\"baby care >> baby & kids gifts >> stickers >...\n",
              "2579   [\"clothing >> women's clothing >> lingerie, sl...\n",
              "14715  [\"clothing >> women's clothing >> western wear...\n",
              "5384   [\"watches >> wrist watches >> yves bertelin wr...\n",
              "932    [\"home decor & festive needs >> candles & frag...\n",
              "\n",
              "[5000 rows x 1 columns]"
            ]
          },
          "metadata": {
            "tags": []
          },
          "execution_count": 42
        }
      ]
    },
    {
      "cell_type": "markdown",
      "metadata": {
        "id": "aj6aiyfOkr3v"
      },
      "source": [
        ""
      ]
    },
    {
      "cell_type": "code",
      "metadata": {
        "colab": {
          "base_uri": "https://localhost:8080/"
        },
        "id": "3pQw_uFBkTr7",
        "outputId": "5d66021e-966b-4932-e82e-6e399b6c56c9"
      },
      "source": [
        "ml.predict(X_test)"
      ],
      "execution_count": 43,
      "outputs": [
        {
          "output_type": "execute_result",
          "data": {
            "text/plain": [
              "array(['[\"clothing >> men\\'s clothing >> t-shirts >> nucode t-shirts\"]',\n",
              "       '[\"footwear >> women\\'s footwear >> wedges\"]',\n",
              "       '[\"footwear >> women\\'s footwear >> wedges\"]', ...,\n",
              "       '[\"clothing >> women\\'s clothing >> western wear >> leggings & jeggings >> leggings & jeggings >> ne leggings & jeggings\"]',\n",
              "       '[\"footwear >> women\\'s footwear >> wedges\"]',\n",
              "       '[\"footwear >> women\\'s footwear >> wedges\"]'], dtype=object)"
            ]
          },
          "metadata": {
            "tags": []
          },
          "execution_count": 43
        }
      ]
    },
    {
      "cell_type": "code",
      "metadata": {
        "id": "FUBkD811sUPD"
      },
      "source": [
        ""
      ],
      "execution_count": null,
      "outputs": []
    }
  ]
}